{
 "cells": [
  {
   "cell_type": "markdown",
   "metadata": {},
   "source": [
    "# We Rate Dogs — Wrangle Act\n",
    "09/10/2018\n",
    "\n",
    "Mayra Dantas Bueno"
   ]
  },
  {
   "cell_type": "markdown",
   "metadata": {},
   "source": [
    "# Tarefas"
   ]
  },
  {
   "cell_type": "markdown",
   "metadata": {},
   "source": [
    "1.    Acessar e juntar em um só arquivo 3 fontes de dados distintas (conforme o projeto orienta, um dos acesso é via web, usando diretamente a API do Twitter)\n",
    "2.    Identificar e documentar os pontos de correção nos dados dessa fonte final\n",
    "3.    Fazer uma cópia da fonte final e aplicar as correções\n",
    "4.    Na base copiada e corrigida, fazer insights sobre os dados\n",
    "5.    Salvar a base copiada e corrigida ou em csv ou sql\n",
    "6.    Fazer dois relatórios, um sobre o trabalho realizado e outro sobre os insights descobertos"
   ]
  },
  {
   "cell_type": "markdown",
   "metadata": {},
   "source": [
    "### Quality"
   ]
  },
  {
   "cell_type": "markdown",
   "metadata": {},
   "source": [
    "1. Nomes das raças começando com letras maíusculas e minúsculas\n",
    "2. Dados confusos em dataframes diferentes\n",
    "3. Linhas sem imagens (devido à junção dos três dataframes)\n",
    "4. Necessidade de juntar três arquivos diferentes (dados soltos em arquivos distintos)\n",
    "5. Muitos valores NaN e None (nulo representado como None em algumas colunas e NaN em outras)\n",
    "6. Falta de valor padrão mais legível para valores nulos\n",
    "7. \"A\", \"an\", \"the\" e similares na coluna de nome\n",
    "8. Cães classificados nas colunas Doggo, Pupper, Puppo e Floofer são indicados com o próprio nome da coluna"
   ]
  },
  {
   "cell_type": "markdown",
   "metadata": {},
   "source": [
    "### Tidiness"
   ]
  },
  {
   "cell_type": "markdown",
   "metadata": {},
   "source": [
    "1. Numerador e denominador das notas em colunas separadas\n",
    "2. Nomes das colunas não são claros"
   ]
  },
  {
   "cell_type": "markdown",
   "metadata": {},
   "source": [
    "# Gather"
   ]
  },
  {
   "cell_type": "code",
   "execution_count": 3,
   "metadata": {},
   "outputs": [],
   "source": [
    "import pandas as pd\n",
    "import numpy as np\n",
    "import requests\n",
    "import tweepy\n",
    "import simplejson as json\n",
    "import matplotlib.pyplot as plt\n",
    "%matplotlib inline \n",
    "import seaborn as sns\n",
    "sns.set()"
   ]
  },
  {
   "cell_type": "markdown",
   "metadata": {},
   "source": [
    "Não incluir keys no envio do projeto"
   ]
  },
  {
   "cell_type": "code",
   "execution_count": 50,
   "metadata": {},
   "outputs": [],
   "source": [
    "consumer_key = ''\n",
    "consumer_secret = ''\n",
    "access_token = ''\n",
    "access_secret = ''\n",
    "\n",
    "auth = tweepy.OAuthHandler(consumer_key, consumer_secret)\n",
    "auth.set_access_token(access_token, access_secret)\n",
    "\n",
    "api = tweepy.API(auth, wait_on_rate_limit=True, wait_on_rate_limit_notify=True)"
   ]
  },
  {
   "cell_type": "code",
   "execution_count": 28,
   "metadata": {},
   "outputs": [],
   "source": [
    "for tweet in tweepy.Cursor(api.search, q='github',tweet_mode='extended').items(5):\n",
    "    # Defining Tweets Creators Name\n",
    "    tweettext = str( tweet.full_text.lower().encode('ascii',errors='ignore')) #encoding to get rid of characters that may not be able to be displayed\n",
    "    # Defining Tweets Id\n",
    "    tweetid = tweet.id"
   ]
  },
  {
   "cell_type": "markdown",
   "metadata": {},
   "source": [
    "Acessar arquivo 'image-predictions.tsv' -- Baixar arquivos e criar dataframes"
   ]
  },
  {
   "cell_type": "code",
   "execution_count": 4,
   "metadata": {},
   "outputs": [],
   "source": [
    "imagens_df = pd.read_csv('image-predictions.tsv', sep='\\t')"
   ]
  },
  {
   "cell_type": "code",
   "execution_count": 30,
   "metadata": {},
   "outputs": [
    {
     "data": {
      "text/html": [
       "<div>\n",
       "<style scoped>\n",
       "    .dataframe tbody tr th:only-of-type {\n",
       "        vertical-align: middle;\n",
       "    }\n",
       "\n",
       "    .dataframe tbody tr th {\n",
       "        vertical-align: top;\n",
       "    }\n",
       "\n",
       "    .dataframe thead th {\n",
       "        text-align: right;\n",
       "    }\n",
       "</style>\n",
       "<table border=\"1\" class=\"dataframe\">\n",
       "  <thead>\n",
       "    <tr style=\"text-align: right;\">\n",
       "      <th></th>\n",
       "      <th>tweet_id</th>\n",
       "      <th>jpg_url</th>\n",
       "      <th>img_num</th>\n",
       "      <th>p1</th>\n",
       "      <th>p1_conf</th>\n",
       "      <th>p1_dog</th>\n",
       "      <th>p2</th>\n",
       "      <th>p2_conf</th>\n",
       "      <th>p2_dog</th>\n",
       "      <th>p3</th>\n",
       "      <th>p3_conf</th>\n",
       "      <th>p3_dog</th>\n",
       "    </tr>\n",
       "  </thead>\n",
       "  <tbody>\n",
       "    <tr>\n",
       "      <th>0</th>\n",
       "      <td>666020888022790149</td>\n",
       "      <td>https://pbs.twimg.com/media/CT4udn0WwAA0aMy.jpg</td>\n",
       "      <td>1</td>\n",
       "      <td>Welsh_springer_spaniel</td>\n",
       "      <td>0.465074</td>\n",
       "      <td>True</td>\n",
       "      <td>collie</td>\n",
       "      <td>0.156665</td>\n",
       "      <td>True</td>\n",
       "      <td>Shetland_sheepdog</td>\n",
       "      <td>0.061428</td>\n",
       "      <td>True</td>\n",
       "    </tr>\n",
       "    <tr>\n",
       "      <th>1</th>\n",
       "      <td>666029285002620928</td>\n",
       "      <td>https://pbs.twimg.com/media/CT42GRgUYAA5iDo.jpg</td>\n",
       "      <td>1</td>\n",
       "      <td>redbone</td>\n",
       "      <td>0.506826</td>\n",
       "      <td>True</td>\n",
       "      <td>miniature_pinscher</td>\n",
       "      <td>0.074192</td>\n",
       "      <td>True</td>\n",
       "      <td>Rhodesian_ridgeback</td>\n",
       "      <td>0.072010</td>\n",
       "      <td>True</td>\n",
       "    </tr>\n",
       "    <tr>\n",
       "      <th>2</th>\n",
       "      <td>666033412701032449</td>\n",
       "      <td>https://pbs.twimg.com/media/CT4521TWwAEvMyu.jpg</td>\n",
       "      <td>1</td>\n",
       "      <td>German_shepherd</td>\n",
       "      <td>0.596461</td>\n",
       "      <td>True</td>\n",
       "      <td>malinois</td>\n",
       "      <td>0.138584</td>\n",
       "      <td>True</td>\n",
       "      <td>bloodhound</td>\n",
       "      <td>0.116197</td>\n",
       "      <td>True</td>\n",
       "    </tr>\n",
       "    <tr>\n",
       "      <th>3</th>\n",
       "      <td>666044226329800704</td>\n",
       "      <td>https://pbs.twimg.com/media/CT5Dr8HUEAA-lEu.jpg</td>\n",
       "      <td>1</td>\n",
       "      <td>Rhodesian_ridgeback</td>\n",
       "      <td>0.408143</td>\n",
       "      <td>True</td>\n",
       "      <td>redbone</td>\n",
       "      <td>0.360687</td>\n",
       "      <td>True</td>\n",
       "      <td>miniature_pinscher</td>\n",
       "      <td>0.222752</td>\n",
       "      <td>True</td>\n",
       "    </tr>\n",
       "    <tr>\n",
       "      <th>4</th>\n",
       "      <td>666049248165822465</td>\n",
       "      <td>https://pbs.twimg.com/media/CT5IQmsXIAAKY4A.jpg</td>\n",
       "      <td>1</td>\n",
       "      <td>miniature_pinscher</td>\n",
       "      <td>0.560311</td>\n",
       "      <td>True</td>\n",
       "      <td>Rottweiler</td>\n",
       "      <td>0.243682</td>\n",
       "      <td>True</td>\n",
       "      <td>Doberman</td>\n",
       "      <td>0.154629</td>\n",
       "      <td>True</td>\n",
       "    </tr>\n",
       "  </tbody>\n",
       "</table>\n",
       "</div>"
      ],
      "text/plain": [
       "             tweet_id                                          jpg_url  \\\n",
       "0  666020888022790149  https://pbs.twimg.com/media/CT4udn0WwAA0aMy.jpg   \n",
       "1  666029285002620928  https://pbs.twimg.com/media/CT42GRgUYAA5iDo.jpg   \n",
       "2  666033412701032449  https://pbs.twimg.com/media/CT4521TWwAEvMyu.jpg   \n",
       "3  666044226329800704  https://pbs.twimg.com/media/CT5Dr8HUEAA-lEu.jpg   \n",
       "4  666049248165822465  https://pbs.twimg.com/media/CT5IQmsXIAAKY4A.jpg   \n",
       "\n",
       "   img_num                      p1   p1_conf  p1_dog                  p2  \\\n",
       "0        1  Welsh_springer_spaniel  0.465074    True              collie   \n",
       "1        1                 redbone  0.506826    True  miniature_pinscher   \n",
       "2        1         German_shepherd  0.596461    True            malinois   \n",
       "3        1     Rhodesian_ridgeback  0.408143    True             redbone   \n",
       "4        1      miniature_pinscher  0.560311    True          Rottweiler   \n",
       "\n",
       "    p2_conf  p2_dog                   p3   p3_conf  p3_dog  \n",
       "0  0.156665    True    Shetland_sheepdog  0.061428    True  \n",
       "1  0.074192    True  Rhodesian_ridgeback  0.072010    True  \n",
       "2  0.138584    True           bloodhound  0.116197    True  \n",
       "3  0.360687    True   miniature_pinscher  0.222752    True  \n",
       "4  0.243682    True             Doberman  0.154629    True  "
      ]
     },
     "execution_count": 30,
     "metadata": {},
     "output_type": "execute_result"
    }
   ],
   "source": [
    "imagens_df.head()"
   ]
  },
  {
   "cell_type": "code",
   "execution_count": 14,
   "metadata": {},
   "outputs": [
    {
     "name": "stdout",
     "output_type": "stream",
     "text": [
      "<class 'pandas.core.frame.DataFrame'>\n",
      "RangeIndex: 2075 entries, 0 to 2074\n",
      "Data columns (total 12 columns):\n",
      "tweet_id    2075 non-null int64\n",
      "jpg_url     2075 non-null object\n",
      "img_num     2075 non-null int64\n",
      "p1          2075 non-null object\n",
      "p1_conf     2075 non-null float64\n",
      "p1_dog      2075 non-null bool\n",
      "p2          2075 non-null object\n",
      "p2_conf     2075 non-null float64\n",
      "p2_dog      2075 non-null bool\n",
      "p3          2075 non-null object\n",
      "p3_conf     2075 non-null float64\n",
      "p3_dog      2075 non-null bool\n",
      "dtypes: bool(3), float64(3), int64(2), object(4)\n",
      "memory usage: 152.1+ KB\n"
     ]
    }
   ],
   "source": [
    "imagens_df.info()"
   ]
  },
  {
   "cell_type": "markdown",
   "metadata": {},
   "source": [
    "Acessar arquivo 'twitter-archive-enhanced.csv' -- Baixar arquivos e criar dataframes"
   ]
  },
  {
   "cell_type": "code",
   "execution_count": 5,
   "metadata": {},
   "outputs": [],
   "source": [
    "twitter_df = pd.read_csv('twitter-archive-enhanced.csv')"
   ]
  },
  {
   "cell_type": "code",
   "execution_count": 79,
   "metadata": {},
   "outputs": [
    {
     "data": {
      "text/html": [
       "<div>\n",
       "<style scoped>\n",
       "    .dataframe tbody tr th:only-of-type {\n",
       "        vertical-align: middle;\n",
       "    }\n",
       "\n",
       "    .dataframe tbody tr th {\n",
       "        vertical-align: top;\n",
       "    }\n",
       "\n",
       "    .dataframe thead th {\n",
       "        text-align: right;\n",
       "    }\n",
       "</style>\n",
       "<table border=\"1\" class=\"dataframe\">\n",
       "  <thead>\n",
       "    <tr style=\"text-align: right;\">\n",
       "      <th></th>\n",
       "      <th>tweet_id</th>\n",
       "      <th>in_reply_to_status_id</th>\n",
       "      <th>in_reply_to_user_id</th>\n",
       "      <th>timestamp</th>\n",
       "      <th>source</th>\n",
       "      <th>text</th>\n",
       "      <th>retweeted_status_id</th>\n",
       "      <th>retweeted_status_user_id</th>\n",
       "      <th>retweeted_status_timestamp</th>\n",
       "      <th>expanded_urls</th>\n",
       "      <th>rating_numerator</th>\n",
       "      <th>rating_denominator</th>\n",
       "      <th>name</th>\n",
       "      <th>doggo</th>\n",
       "      <th>floofer</th>\n",
       "      <th>pupper</th>\n",
       "      <th>puppo</th>\n",
       "    </tr>\n",
       "  </thead>\n",
       "  <tbody>\n",
       "    <tr>\n",
       "      <th>0</th>\n",
       "      <td>892420643555336193</td>\n",
       "      <td>NaN</td>\n",
       "      <td>NaN</td>\n",
       "      <td>2017-08-01 16:23:56 +0000</td>\n",
       "      <td>&lt;a href=\"http://twitter.com/download/iphone\" r...</td>\n",
       "      <td>This is Phineas. He's a mystical boy. Only eve...</td>\n",
       "      <td>NaN</td>\n",
       "      <td>NaN</td>\n",
       "      <td>NaN</td>\n",
       "      <td>https://twitter.com/dog_rates/status/892420643...</td>\n",
       "      <td>13</td>\n",
       "      <td>10</td>\n",
       "      <td>Phineas</td>\n",
       "      <td>None</td>\n",
       "      <td>None</td>\n",
       "      <td>None</td>\n",
       "      <td>None</td>\n",
       "    </tr>\n",
       "    <tr>\n",
       "      <th>1</th>\n",
       "      <td>892177421306343426</td>\n",
       "      <td>NaN</td>\n",
       "      <td>NaN</td>\n",
       "      <td>2017-08-01 00:17:27 +0000</td>\n",
       "      <td>&lt;a href=\"http://twitter.com/download/iphone\" r...</td>\n",
       "      <td>This is Tilly. She's just checking pup on you....</td>\n",
       "      <td>NaN</td>\n",
       "      <td>NaN</td>\n",
       "      <td>NaN</td>\n",
       "      <td>https://twitter.com/dog_rates/status/892177421...</td>\n",
       "      <td>13</td>\n",
       "      <td>10</td>\n",
       "      <td>Tilly</td>\n",
       "      <td>None</td>\n",
       "      <td>None</td>\n",
       "      <td>None</td>\n",
       "      <td>None</td>\n",
       "    </tr>\n",
       "    <tr>\n",
       "      <th>2</th>\n",
       "      <td>891815181378084864</td>\n",
       "      <td>NaN</td>\n",
       "      <td>NaN</td>\n",
       "      <td>2017-07-31 00:18:03 +0000</td>\n",
       "      <td>&lt;a href=\"http://twitter.com/download/iphone\" r...</td>\n",
       "      <td>This is Archie. He is a rare Norwegian Pouncin...</td>\n",
       "      <td>NaN</td>\n",
       "      <td>NaN</td>\n",
       "      <td>NaN</td>\n",
       "      <td>https://twitter.com/dog_rates/status/891815181...</td>\n",
       "      <td>12</td>\n",
       "      <td>10</td>\n",
       "      <td>Archie</td>\n",
       "      <td>None</td>\n",
       "      <td>None</td>\n",
       "      <td>None</td>\n",
       "      <td>None</td>\n",
       "    </tr>\n",
       "    <tr>\n",
       "      <th>3</th>\n",
       "      <td>891689557279858688</td>\n",
       "      <td>NaN</td>\n",
       "      <td>NaN</td>\n",
       "      <td>2017-07-30 15:58:51 +0000</td>\n",
       "      <td>&lt;a href=\"http://twitter.com/download/iphone\" r...</td>\n",
       "      <td>This is Darla. She commenced a snooze mid meal...</td>\n",
       "      <td>NaN</td>\n",
       "      <td>NaN</td>\n",
       "      <td>NaN</td>\n",
       "      <td>https://twitter.com/dog_rates/status/891689557...</td>\n",
       "      <td>13</td>\n",
       "      <td>10</td>\n",
       "      <td>Darla</td>\n",
       "      <td>None</td>\n",
       "      <td>None</td>\n",
       "      <td>None</td>\n",
       "      <td>None</td>\n",
       "    </tr>\n",
       "    <tr>\n",
       "      <th>4</th>\n",
       "      <td>891327558926688256</td>\n",
       "      <td>NaN</td>\n",
       "      <td>NaN</td>\n",
       "      <td>2017-07-29 16:00:24 +0000</td>\n",
       "      <td>&lt;a href=\"http://twitter.com/download/iphone\" r...</td>\n",
       "      <td>This is Franklin. He would like you to stop ca...</td>\n",
       "      <td>NaN</td>\n",
       "      <td>NaN</td>\n",
       "      <td>NaN</td>\n",
       "      <td>https://twitter.com/dog_rates/status/891327558...</td>\n",
       "      <td>12</td>\n",
       "      <td>10</td>\n",
       "      <td>Franklin</td>\n",
       "      <td>None</td>\n",
       "      <td>None</td>\n",
       "      <td>None</td>\n",
       "      <td>None</td>\n",
       "    </tr>\n",
       "  </tbody>\n",
       "</table>\n",
       "</div>"
      ],
      "text/plain": [
       "             tweet_id  in_reply_to_status_id  in_reply_to_user_id  \\\n",
       "0  892420643555336193                    NaN                  NaN   \n",
       "1  892177421306343426                    NaN                  NaN   \n",
       "2  891815181378084864                    NaN                  NaN   \n",
       "3  891689557279858688                    NaN                  NaN   \n",
       "4  891327558926688256                    NaN                  NaN   \n",
       "\n",
       "                   timestamp  \\\n",
       "0  2017-08-01 16:23:56 +0000   \n",
       "1  2017-08-01 00:17:27 +0000   \n",
       "2  2017-07-31 00:18:03 +0000   \n",
       "3  2017-07-30 15:58:51 +0000   \n",
       "4  2017-07-29 16:00:24 +0000   \n",
       "\n",
       "                                              source  \\\n",
       "0  <a href=\"http://twitter.com/download/iphone\" r...   \n",
       "1  <a href=\"http://twitter.com/download/iphone\" r...   \n",
       "2  <a href=\"http://twitter.com/download/iphone\" r...   \n",
       "3  <a href=\"http://twitter.com/download/iphone\" r...   \n",
       "4  <a href=\"http://twitter.com/download/iphone\" r...   \n",
       "\n",
       "                                                text  retweeted_status_id  \\\n",
       "0  This is Phineas. He's a mystical boy. Only eve...                  NaN   \n",
       "1  This is Tilly. She's just checking pup on you....                  NaN   \n",
       "2  This is Archie. He is a rare Norwegian Pouncin...                  NaN   \n",
       "3  This is Darla. She commenced a snooze mid meal...                  NaN   \n",
       "4  This is Franklin. He would like you to stop ca...                  NaN   \n",
       "\n",
       "   retweeted_status_user_id retweeted_status_timestamp  \\\n",
       "0                       NaN                        NaN   \n",
       "1                       NaN                        NaN   \n",
       "2                       NaN                        NaN   \n",
       "3                       NaN                        NaN   \n",
       "4                       NaN                        NaN   \n",
       "\n",
       "                                       expanded_urls  rating_numerator  \\\n",
       "0  https://twitter.com/dog_rates/status/892420643...                13   \n",
       "1  https://twitter.com/dog_rates/status/892177421...                13   \n",
       "2  https://twitter.com/dog_rates/status/891815181...                12   \n",
       "3  https://twitter.com/dog_rates/status/891689557...                13   \n",
       "4  https://twitter.com/dog_rates/status/891327558...                12   \n",
       "\n",
       "   rating_denominator      name doggo floofer pupper puppo  \n",
       "0                  10   Phineas  None    None   None  None  \n",
       "1                  10     Tilly  None    None   None  None  \n",
       "2                  10    Archie  None    None   None  None  \n",
       "3                  10     Darla  None    None   None  None  \n",
       "4                  10  Franklin  None    None   None  None  "
      ]
     },
     "execution_count": 79,
     "metadata": {},
     "output_type": "execute_result"
    }
   ],
   "source": [
    "twitter_df.head()"
   ]
  },
  {
   "cell_type": "code",
   "execution_count": 67,
   "metadata": {},
   "outputs": [
    {
     "data": {
      "text/plain": [
       "13.12648556876061"
      ]
     },
     "execution_count": 67,
     "metadata": {},
     "output_type": "execute_result"
    }
   ],
   "source": [
    "twitter_df['rating_numerator'].mean()"
   ]
  },
  {
   "cell_type": "code",
   "execution_count": 68,
   "metadata": {},
   "outputs": [
    {
     "data": {
      "text/plain": [
       "10.455432937181664"
      ]
     },
     "execution_count": 68,
     "metadata": {},
     "output_type": "execute_result"
    }
   ],
   "source": [
    "twitter_df['rating_denominator'].mean()"
   ]
  },
  {
   "cell_type": "code",
   "execution_count": 80,
   "metadata": {},
   "outputs": [
    {
     "data": {
      "text/plain": [
       "tweet_id                                                     731156023742988288\n",
       "in_reply_to_status_id                                                       NaN\n",
       "in_reply_to_user_id                                                         NaN\n",
       "timestamp                                             2016-05-13 16:15:54 +0000\n",
       "source                        <a href=\"http://twitter.com/download/iphone\" r...\n",
       "text                          Say hello to this unbelievably well behaved sq...\n",
       "retweeted_status_id                                                         NaN\n",
       "retweeted_status_user_id                                                    NaN\n",
       "retweeted_status_timestamp                                                  NaN\n",
       "expanded_urls                 https://twitter.com/dog_rates/status/731156023...\n",
       "rating_numerator                                                            204\n",
       "rating_denominator                                                          170\n",
       "name                                                                       this\n",
       "doggo                                                                      None\n",
       "floofer                                                                    None\n",
       "pupper                                                                     None\n",
       "puppo                                                                      None\n",
       "Name: 1120, dtype: object"
      ]
     },
     "execution_count": 80,
     "metadata": {},
     "output_type": "execute_result"
    }
   ],
   "source": [
    "twitter_df.loc[twitter_df['rating_denominator'].idxmax()]"
   ]
  },
  {
   "cell_type": "code",
   "execution_count": 7,
   "metadata": {},
   "outputs": [
    {
     "name": "stdout",
     "output_type": "stream",
     "text": [
      "<class 'pandas.core.frame.DataFrame'>\n",
      "RangeIndex: 2356 entries, 0 to 2355\n",
      "Data columns (total 17 columns):\n",
      "tweet_id                      2356 non-null int64\n",
      "in_reply_to_status_id         78 non-null float64\n",
      "in_reply_to_user_id           78 non-null float64\n",
      "timestamp                     2356 non-null object\n",
      "source                        2356 non-null object\n",
      "text                          2356 non-null object\n",
      "retweeted_status_id           181 non-null float64\n",
      "retweeted_status_user_id      181 non-null float64\n",
      "retweeted_status_timestamp    181 non-null object\n",
      "expanded_urls                 2297 non-null object\n",
      "rating_numerator              2356 non-null int64\n",
      "rating_denominator            2356 non-null int64\n",
      "name                          2356 non-null object\n",
      "doggo                         2356 non-null object\n",
      "floofer                       2356 non-null object\n",
      "pupper                        2356 non-null object\n",
      "puppo                         2356 non-null object\n",
      "dtypes: float64(4), int64(3), object(10)\n",
      "memory usage: 313.0+ KB\n"
     ]
    }
   ],
   "source": [
    "twitter_df.info()"
   ]
  },
  {
   "cell_type": "markdown",
   "metadata": {},
   "source": [
    "## Define"
   ]
  },
  {
   "cell_type": "markdown",
   "metadata": {},
   "source": [
    "Criar novo dataframe com colunas relevantes que serão unidas posteriormente"
   ]
  },
  {
   "cell_type": "markdown",
   "metadata": {},
   "source": [
    "## Code"
   ]
  },
  {
   "cell_type": "code",
   "execution_count": 6,
   "metadata": {},
   "outputs": [],
   "source": [
    "new_doggo_df = twitter_df[[\"tweet_id\", \"rating_numerator\", \"rating_denominator\", \"name\", \"doggo\", \"floofer\", \"pupper\", \"puppo\"]].copy()"
   ]
  },
  {
   "cell_type": "markdown",
   "metadata": {},
   "source": [
    "## Test"
   ]
  },
  {
   "cell_type": "code",
   "execution_count": 76,
   "metadata": {},
   "outputs": [
    {
     "name": "stdout",
     "output_type": "stream",
     "text": [
      "<class 'pandas.core.frame.DataFrame'>\n",
      "RangeIndex: 2356 entries, 0 to 2355\n",
      "Data columns (total 8 columns):\n",
      "tweet_id              2356 non-null int64\n",
      "rating_numerator      2356 non-null int64\n",
      "rating_denominator    2356 non-null int64\n",
      "name                  2356 non-null object\n",
      "doggo                 2356 non-null object\n",
      "floofer               2356 non-null object\n",
      "pupper                2356 non-null object\n",
      "puppo                 2356 non-null object\n",
      "dtypes: int64(3), object(5)\n",
      "memory usage: 147.3+ KB\n"
     ]
    }
   ],
   "source": [
    "new_doggo_df.info()"
   ]
  },
  {
   "cell_type": "markdown",
   "metadata": {},
   "source": [
    "Criar dataframe a partir da API do Twitter -- Baixar dados dos tweets"
   ]
  },
  {
   "cell_type": "code",
   "execution_count": 32,
   "metadata": {},
   "outputs": [
    {
     "name": "stdout",
     "output_type": "stream",
     "text": [
      "Error for: 888202515573088257\n",
      "Error for: 873697596434513921\n",
      "Error for: 872668790621863937\n",
      "Error for: 869988702071779329\n",
      "Error for: 866816280283807744\n",
      "Error for: 861769973181624320\n",
      "Error for: 845459076796616705\n",
      "Error for: 842892208864923648\n",
      "Error for: 837012587749474308\n",
      "Error for: 827228250799742977\n",
      "Error for: 802247111496568832\n",
      "Error for: 775096608509886464\n",
      "Error for: 771004394259247104\n",
      "Error for: 770743923962707968\n"
     ]
    },
    {
     "name": "stderr",
     "output_type": "stream",
     "text": [
      "Rate limit reached. Sleeping for: 659\n"
     ]
    },
    {
     "name": "stdout",
     "output_type": "stream",
     "text": [
      "Error for: 754011816964026368\n"
     ]
    },
    {
     "name": "stderr",
     "output_type": "stream",
     "text": [
      "Rate limit reached. Sleeping for: 648\n"
     ]
    }
   ],
   "source": [
    "tweet_ids = list(twitter_df.tweet_id)\n",
    "\n",
    "tweet_data = {}\n",
    "for tweet in tweet_ids:\n",
    "    try:\n",
    "        tweet_status = api.get_status(tweet,\n",
    "                                      wait_on_rate_limit=True, \n",
    "                                      wait_on_rate_limit_notify=True)\n",
    "        tweet_data[str(tweet)] = tweet_status._json\n",
    "    except: \n",
    "        print(\"Error for: \" + str(tweet))"
   ]
  },
  {
   "cell_type": "markdown",
   "metadata": {},
   "source": [
    "Salvar os tweets em arquivos para consulta"
   ]
  },
  {
   "cell_type": "code",
   "execution_count": 33,
   "metadata": {},
   "outputs": [],
   "source": [
    "with open('tweet_json.json', 'w', encoding=\"utf-8\") as outfile:  \n",
    "    json.dump(tweet_data, outfile, \n",
    "              sort_keys = True,\n",
    "              indent=4,\n",
    "              ensure_ascii = False)"
   ]
  },
  {
   "cell_type": "code",
   "execution_count": 34,
   "metadata": {},
   "outputs": [],
   "source": [
    "with open('tweet_json.csv', 'w', encoding=\"utf-8\") as outfile:  \n",
    "    json.dump(tweet_data, outfile, \n",
    "              sort_keys = True,\n",
    "              indent=4,\n",
    "              ensure_ascii = False)"
   ]
  },
  {
   "cell_type": "code",
   "execution_count": 36,
   "metadata": {},
   "outputs": [],
   "source": [
    "import json\n",
    "\n",
    "with open('tweet_json.txt', 'w', encoding=\"utf-8\") as outfile:  \n",
    "    json.dump(tweet_data, outfile, \n",
    "              sort_keys = True,\n",
    "              indent=4,\n",
    "              ensure_ascii = False)"
   ]
  },
  {
   "cell_type": "markdown",
   "metadata": {},
   "source": [
    "Importar arquivo salvo como dataframe"
   ]
  },
  {
   "cell_type": "code",
   "execution_count": 7,
   "metadata": {},
   "outputs": [],
   "source": [
    "tweet_df = pd.read_json('tweet_json.json',orient='index')"
   ]
  },
  {
   "cell_type": "code",
   "execution_count": null,
   "metadata": {},
   "outputs": [],
   "source": []
  },
  {
   "cell_type": "markdown",
   "metadata": {},
   "source": [
    "# Clean & Merge"
   ]
  },
  {
   "cell_type": "code",
   "execution_count": 44,
   "metadata": {},
   "outputs": [
    {
     "data": {
      "text/html": [
       "<div>\n",
       "<style scoped>\n",
       "    .dataframe tbody tr th:only-of-type {\n",
       "        vertical-align: middle;\n",
       "    }\n",
       "\n",
       "    .dataframe tbody tr th {\n",
       "        vertical-align: top;\n",
       "    }\n",
       "\n",
       "    .dataframe thead th {\n",
       "        text-align: right;\n",
       "    }\n",
       "</style>\n",
       "<table border=\"1\" class=\"dataframe\">\n",
       "  <thead>\n",
       "    <tr style=\"text-align: right;\">\n",
       "      <th></th>\n",
       "      <th>contributors</th>\n",
       "      <th>coordinates</th>\n",
       "      <th>created_at</th>\n",
       "      <th>entities</th>\n",
       "      <th>extended_entities</th>\n",
       "      <th>favorite_count</th>\n",
       "      <th>favorited</th>\n",
       "      <th>geo</th>\n",
       "      <th>id</th>\n",
       "      <th>id_str</th>\n",
       "      <th>...</th>\n",
       "      <th>quoted_status</th>\n",
       "      <th>quoted_status_id</th>\n",
       "      <th>quoted_status_id_str</th>\n",
       "      <th>retweet_count</th>\n",
       "      <th>retweeted</th>\n",
       "      <th>retweeted_status</th>\n",
       "      <th>source</th>\n",
       "      <th>text</th>\n",
       "      <th>truncated</th>\n",
       "      <th>user</th>\n",
       "    </tr>\n",
       "  </thead>\n",
       "  <tbody>\n",
       "    <tr>\n",
       "      <th>1991-02-08 13:48:08.022790149</th>\n",
       "      <td>NaN</td>\n",
       "      <td>NaN</td>\n",
       "      <td>2015-11-15 22:32:08</td>\n",
       "      <td>{'hashtags': [], 'media': [{'display_url': 'pi...</td>\n",
       "      <td>{'media': [{'display_url': 'pic.twitter.com/BL...</td>\n",
       "      <td>2552</td>\n",
       "      <td>0</td>\n",
       "      <td>NaN</td>\n",
       "      <td>666020888022790144</td>\n",
       "      <td>666020888022790144</td>\n",
       "      <td>...</td>\n",
       "      <td>NaN</td>\n",
       "      <td>NaN</td>\n",
       "      <td>NaN</td>\n",
       "      <td>508</td>\n",
       "      <td>0</td>\n",
       "      <td>NaN</td>\n",
       "      <td>&lt;a href=\"http://twitter.com/download/iphone\" r...</td>\n",
       "      <td>Here we have a Japanese Irish Setter. Lost eye...</td>\n",
       "      <td>0</td>\n",
       "      <td>{'contributors_enabled': False, 'created_at': ...</td>\n",
       "    </tr>\n",
       "    <tr>\n",
       "      <th>1991-02-08 16:08:05.002620928</th>\n",
       "      <td>NaN</td>\n",
       "      <td>NaN</td>\n",
       "      <td>2015-11-15 23:05:30</td>\n",
       "      <td>{'hashtags': [], 'media': [{'display_url': 'pi...</td>\n",
       "      <td>{'media': [{'display_url': 'pic.twitter.com/r7...</td>\n",
       "      <td>128</td>\n",
       "      <td>0</td>\n",
       "      <td>NaN</td>\n",
       "      <td>666029285002620928</td>\n",
       "      <td>666029285002620928</td>\n",
       "      <td>...</td>\n",
       "      <td>NaN</td>\n",
       "      <td>NaN</td>\n",
       "      <td>NaN</td>\n",
       "      <td>47</td>\n",
       "      <td>0</td>\n",
       "      <td>NaN</td>\n",
       "      <td>&lt;a href=\"http://twitter.com/download/iphone\" r...</td>\n",
       "      <td>This is a western brown Mitsubishi terrier. Up...</td>\n",
       "      <td>0</td>\n",
       "      <td>{'contributors_enabled': False, 'created_at': ...</td>\n",
       "    </tr>\n",
       "    <tr>\n",
       "      <th>1991-02-08 17:16:52.701032449</th>\n",
       "      <td>NaN</td>\n",
       "      <td>NaN</td>\n",
       "      <td>2015-11-15 23:21:54</td>\n",
       "      <td>{'hashtags': [], 'media': [{'display_url': 'pi...</td>\n",
       "      <td>{'media': [{'display_url': 'pic.twitter.com/y6...</td>\n",
       "      <td>125</td>\n",
       "      <td>0</td>\n",
       "      <td>NaN</td>\n",
       "      <td>666033412701032448</td>\n",
       "      <td>666033412701032448</td>\n",
       "      <td>...</td>\n",
       "      <td>NaN</td>\n",
       "      <td>NaN</td>\n",
       "      <td>NaN</td>\n",
       "      <td>44</td>\n",
       "      <td>0</td>\n",
       "      <td>NaN</td>\n",
       "      <td>&lt;a href=\"http://twitter.com/download/iphone\" r...</td>\n",
       "      <td>Here is a very happy pup. Big fan of well-main...</td>\n",
       "      <td>0</td>\n",
       "      <td>{'contributors_enabled': False, 'created_at': ...</td>\n",
       "    </tr>\n",
       "    <tr>\n",
       "      <th>1991-02-08 20:17:06.329800704</th>\n",
       "      <td>NaN</td>\n",
       "      <td>NaN</td>\n",
       "      <td>2015-11-16 00:04:52</td>\n",
       "      <td>{'hashtags': [], 'media': [{'display_url': 'pi...</td>\n",
       "      <td>{'media': [{'display_url': 'pic.twitter.com/DW...</td>\n",
       "      <td>297</td>\n",
       "      <td>0</td>\n",
       "      <td>NaN</td>\n",
       "      <td>666044226329800704</td>\n",
       "      <td>666044226329800704</td>\n",
       "      <td>...</td>\n",
       "      <td>NaN</td>\n",
       "      <td>NaN</td>\n",
       "      <td>NaN</td>\n",
       "      <td>140</td>\n",
       "      <td>0</td>\n",
       "      <td>NaN</td>\n",
       "      <td>&lt;a href=\"http://twitter.com/download/iphone\" r...</td>\n",
       "      <td>This is a purebred Piers Morgan. Loves to Netf...</td>\n",
       "      <td>0</td>\n",
       "      <td>{'contributors_enabled': False, 'created_at': ...</td>\n",
       "    </tr>\n",
       "    <tr>\n",
       "      <th>1991-02-08 21:40:48.165822465</th>\n",
       "      <td>NaN</td>\n",
       "      <td>NaN</td>\n",
       "      <td>2015-11-16 00:24:50</td>\n",
       "      <td>{'hashtags': [], 'media': [{'display_url': 'pi...</td>\n",
       "      <td>{'media': [{'display_url': 'pic.twitter.com/4B...</td>\n",
       "      <td>109</td>\n",
       "      <td>0</td>\n",
       "      <td>NaN</td>\n",
       "      <td>666049248165822464</td>\n",
       "      <td>666049248165822464</td>\n",
       "      <td>...</td>\n",
       "      <td>NaN</td>\n",
       "      <td>NaN</td>\n",
       "      <td>NaN</td>\n",
       "      <td>40</td>\n",
       "      <td>0</td>\n",
       "      <td>NaN</td>\n",
       "      <td>&lt;a href=\"http://twitter.com/download/iphone\" r...</td>\n",
       "      <td>Here we have a 1949 1st generation vulpix. Enj...</td>\n",
       "      <td>0</td>\n",
       "      <td>{'contributors_enabled': False, 'created_at': ...</td>\n",
       "    </tr>\n",
       "  </tbody>\n",
       "</table>\n",
       "<p>5 rows × 30 columns</p>\n",
       "</div>"
      ],
      "text/plain": [
       "                               contributors  coordinates          created_at  \\\n",
       "1991-02-08 13:48:08.022790149           NaN          NaN 2015-11-15 22:32:08   \n",
       "1991-02-08 16:08:05.002620928           NaN          NaN 2015-11-15 23:05:30   \n",
       "1991-02-08 17:16:52.701032449           NaN          NaN 2015-11-15 23:21:54   \n",
       "1991-02-08 20:17:06.329800704           NaN          NaN 2015-11-16 00:04:52   \n",
       "1991-02-08 21:40:48.165822465           NaN          NaN 2015-11-16 00:24:50   \n",
       "\n",
       "                                                                        entities  \\\n",
       "1991-02-08 13:48:08.022790149  {'hashtags': [], 'media': [{'display_url': 'pi...   \n",
       "1991-02-08 16:08:05.002620928  {'hashtags': [], 'media': [{'display_url': 'pi...   \n",
       "1991-02-08 17:16:52.701032449  {'hashtags': [], 'media': [{'display_url': 'pi...   \n",
       "1991-02-08 20:17:06.329800704  {'hashtags': [], 'media': [{'display_url': 'pi...   \n",
       "1991-02-08 21:40:48.165822465  {'hashtags': [], 'media': [{'display_url': 'pi...   \n",
       "\n",
       "                                                               extended_entities  \\\n",
       "1991-02-08 13:48:08.022790149  {'media': [{'display_url': 'pic.twitter.com/BL...   \n",
       "1991-02-08 16:08:05.002620928  {'media': [{'display_url': 'pic.twitter.com/r7...   \n",
       "1991-02-08 17:16:52.701032449  {'media': [{'display_url': 'pic.twitter.com/y6...   \n",
       "1991-02-08 20:17:06.329800704  {'media': [{'display_url': 'pic.twitter.com/DW...   \n",
       "1991-02-08 21:40:48.165822465  {'media': [{'display_url': 'pic.twitter.com/4B...   \n",
       "\n",
       "                               favorite_count  favorited  geo  \\\n",
       "1991-02-08 13:48:08.022790149            2552          0  NaN   \n",
       "1991-02-08 16:08:05.002620928             128          0  NaN   \n",
       "1991-02-08 17:16:52.701032449             125          0  NaN   \n",
       "1991-02-08 20:17:06.329800704             297          0  NaN   \n",
       "1991-02-08 21:40:48.165822465             109          0  NaN   \n",
       "\n",
       "                                               id              id_str  \\\n",
       "1991-02-08 13:48:08.022790149  666020888022790144  666020888022790144   \n",
       "1991-02-08 16:08:05.002620928  666029285002620928  666029285002620928   \n",
       "1991-02-08 17:16:52.701032449  666033412701032448  666033412701032448   \n",
       "1991-02-08 20:17:06.329800704  666044226329800704  666044226329800704   \n",
       "1991-02-08 21:40:48.165822465  666049248165822464  666049248165822464   \n",
       "\n",
       "                                                     ...                          \\\n",
       "1991-02-08 13:48:08.022790149                        ...                           \n",
       "1991-02-08 16:08:05.002620928                        ...                           \n",
       "1991-02-08 17:16:52.701032449                        ...                           \n",
       "1991-02-08 20:17:06.329800704                        ...                           \n",
       "1991-02-08 21:40:48.165822465                        ...                           \n",
       "\n",
       "                              quoted_status  quoted_status_id  \\\n",
       "1991-02-08 13:48:08.022790149           NaN               NaN   \n",
       "1991-02-08 16:08:05.002620928           NaN               NaN   \n",
       "1991-02-08 17:16:52.701032449           NaN               NaN   \n",
       "1991-02-08 20:17:06.329800704           NaN               NaN   \n",
       "1991-02-08 21:40:48.165822465           NaN               NaN   \n",
       "\n",
       "                               quoted_status_id_str  retweet_count  retweeted  \\\n",
       "1991-02-08 13:48:08.022790149                   NaN            508          0   \n",
       "1991-02-08 16:08:05.002620928                   NaN             47          0   \n",
       "1991-02-08 17:16:52.701032449                   NaN             44          0   \n",
       "1991-02-08 20:17:06.329800704                   NaN            140          0   \n",
       "1991-02-08 21:40:48.165822465                   NaN             40          0   \n",
       "\n",
       "                               retweeted_status  \\\n",
       "1991-02-08 13:48:08.022790149               NaN   \n",
       "1991-02-08 16:08:05.002620928               NaN   \n",
       "1991-02-08 17:16:52.701032449               NaN   \n",
       "1991-02-08 20:17:06.329800704               NaN   \n",
       "1991-02-08 21:40:48.165822465               NaN   \n",
       "\n",
       "                                                                          source  \\\n",
       "1991-02-08 13:48:08.022790149  <a href=\"http://twitter.com/download/iphone\" r...   \n",
       "1991-02-08 16:08:05.002620928  <a href=\"http://twitter.com/download/iphone\" r...   \n",
       "1991-02-08 17:16:52.701032449  <a href=\"http://twitter.com/download/iphone\" r...   \n",
       "1991-02-08 20:17:06.329800704  <a href=\"http://twitter.com/download/iphone\" r...   \n",
       "1991-02-08 21:40:48.165822465  <a href=\"http://twitter.com/download/iphone\" r...   \n",
       "\n",
       "                                                                            text  \\\n",
       "1991-02-08 13:48:08.022790149  Here we have a Japanese Irish Setter. Lost eye...   \n",
       "1991-02-08 16:08:05.002620928  This is a western brown Mitsubishi terrier. Up...   \n",
       "1991-02-08 17:16:52.701032449  Here is a very happy pup. Big fan of well-main...   \n",
       "1991-02-08 20:17:06.329800704  This is a purebred Piers Morgan. Loves to Netf...   \n",
       "1991-02-08 21:40:48.165822465  Here we have a 1949 1st generation vulpix. Enj...   \n",
       "\n",
       "                               truncated  \\\n",
       "1991-02-08 13:48:08.022790149          0   \n",
       "1991-02-08 16:08:05.002620928          0   \n",
       "1991-02-08 17:16:52.701032449          0   \n",
       "1991-02-08 20:17:06.329800704          0   \n",
       "1991-02-08 21:40:48.165822465          0   \n",
       "\n",
       "                                                                            user  \n",
       "1991-02-08 13:48:08.022790149  {'contributors_enabled': False, 'created_at': ...  \n",
       "1991-02-08 16:08:05.002620928  {'contributors_enabled': False, 'created_at': ...  \n",
       "1991-02-08 17:16:52.701032449  {'contributors_enabled': False, 'created_at': ...  \n",
       "1991-02-08 20:17:06.329800704  {'contributors_enabled': False, 'created_at': ...  \n",
       "1991-02-08 21:40:48.165822465  {'contributors_enabled': False, 'created_at': ...  \n",
       "\n",
       "[5 rows x 30 columns]"
      ]
     },
     "execution_count": 44,
     "metadata": {},
     "output_type": "execute_result"
    }
   ],
   "source": [
    "tweet_df.head()"
   ]
  },
  {
   "cell_type": "markdown",
   "metadata": {},
   "source": [
    "## Define"
   ]
  },
  {
   "cell_type": "markdown",
   "metadata": {},
   "source": [
    "Criar novo data frame com colunas relevantes escolhidas"
   ]
  },
  {
   "cell_type": "markdown",
   "metadata": {},
   "source": [
    "## Code"
   ]
  },
  {
   "cell_type": "code",
   "execution_count": 8,
   "metadata": {},
   "outputs": [],
   "source": [
    "new_tweet_df = tweet_df[[\"id\", \"retweet_count\", \"favorite_count\", \"text\"]].copy()"
   ]
  },
  {
   "cell_type": "markdown",
   "metadata": {},
   "source": [
    "## Test"
   ]
  },
  {
   "cell_type": "code",
   "execution_count": 47,
   "metadata": {},
   "outputs": [
    {
     "data": {
      "text/html": [
       "<div>\n",
       "<style scoped>\n",
       "    .dataframe tbody tr th:only-of-type {\n",
       "        vertical-align: middle;\n",
       "    }\n",
       "\n",
       "    .dataframe tbody tr th {\n",
       "        vertical-align: top;\n",
       "    }\n",
       "\n",
       "    .dataframe thead th {\n",
       "        text-align: right;\n",
       "    }\n",
       "</style>\n",
       "<table border=\"1\" class=\"dataframe\">\n",
       "  <thead>\n",
       "    <tr style=\"text-align: right;\">\n",
       "      <th></th>\n",
       "      <th>id</th>\n",
       "      <th>retweet_count</th>\n",
       "      <th>favorite_count</th>\n",
       "      <th>text</th>\n",
       "    </tr>\n",
       "  </thead>\n",
       "  <tbody>\n",
       "    <tr>\n",
       "      <th>1991-02-08 13:48:08.022790149</th>\n",
       "      <td>666020888022790144</td>\n",
       "      <td>508</td>\n",
       "      <td>2552</td>\n",
       "      <td>Here we have a Japanese Irish Setter. Lost eye...</td>\n",
       "    </tr>\n",
       "    <tr>\n",
       "      <th>1991-02-08 16:08:05.002620928</th>\n",
       "      <td>666029285002620928</td>\n",
       "      <td>47</td>\n",
       "      <td>128</td>\n",
       "      <td>This is a western brown Mitsubishi terrier. Up...</td>\n",
       "    </tr>\n",
       "    <tr>\n",
       "      <th>1991-02-08 17:16:52.701032449</th>\n",
       "      <td>666033412701032448</td>\n",
       "      <td>44</td>\n",
       "      <td>125</td>\n",
       "      <td>Here is a very happy pup. Big fan of well-main...</td>\n",
       "    </tr>\n",
       "    <tr>\n",
       "      <th>1991-02-08 20:17:06.329800704</th>\n",
       "      <td>666044226329800704</td>\n",
       "      <td>140</td>\n",
       "      <td>297</td>\n",
       "      <td>This is a purebred Piers Morgan. Loves to Netf...</td>\n",
       "    </tr>\n",
       "    <tr>\n",
       "      <th>1991-02-08 21:40:48.165822465</th>\n",
       "      <td>666049248165822464</td>\n",
       "      <td>40</td>\n",
       "      <td>109</td>\n",
       "      <td>Here we have a 1949 1st generation vulpix. Enj...</td>\n",
       "    </tr>\n",
       "  </tbody>\n",
       "</table>\n",
       "</div>"
      ],
      "text/plain": [
       "                                               id  retweet_count  \\\n",
       "1991-02-08 13:48:08.022790149  666020888022790144            508   \n",
       "1991-02-08 16:08:05.002620928  666029285002620928             47   \n",
       "1991-02-08 17:16:52.701032449  666033412701032448             44   \n",
       "1991-02-08 20:17:06.329800704  666044226329800704            140   \n",
       "1991-02-08 21:40:48.165822465  666049248165822464             40   \n",
       "\n",
       "                               favorite_count  \\\n",
       "1991-02-08 13:48:08.022790149            2552   \n",
       "1991-02-08 16:08:05.002620928             128   \n",
       "1991-02-08 17:16:52.701032449             125   \n",
       "1991-02-08 20:17:06.329800704             297   \n",
       "1991-02-08 21:40:48.165822465             109   \n",
       "\n",
       "                                                                            text  \n",
       "1991-02-08 13:48:08.022790149  Here we have a Japanese Irish Setter. Lost eye...  \n",
       "1991-02-08 16:08:05.002620928  This is a western brown Mitsubishi terrier. Up...  \n",
       "1991-02-08 17:16:52.701032449  Here is a very happy pup. Big fan of well-main...  \n",
       "1991-02-08 20:17:06.329800704  This is a purebred Piers Morgan. Loves to Netf...  \n",
       "1991-02-08 21:40:48.165822465  Here we have a 1949 1st generation vulpix. Enj...  "
      ]
     },
     "execution_count": 47,
     "metadata": {},
     "output_type": "execute_result"
    }
   ],
   "source": [
    "new_tweet_df.head()"
   ]
  },
  {
   "cell_type": "markdown",
   "metadata": {},
   "source": [
    "## Define"
   ]
  },
  {
   "cell_type": "markdown",
   "metadata": {},
   "source": [
    "Usar merge para unir os dataframes ('image-predictions.tsv') imagens_df com o que acabou de ser criado ('tweet_json.json' -- baixado pela API do twitter)"
   ]
  },
  {
   "cell_type": "markdown",
   "metadata": {},
   "source": [
    "## Code"
   ]
  },
  {
   "cell_type": "code",
   "execution_count": 9,
   "metadata": {},
   "outputs": [],
   "source": [
    "tweet_images_df = pd.merge(new_tweet_df, imagens_df, \n",
    "                           left_on='id', right_on='tweet_id', \n",
    "                           how='right').drop('id', axis=1)"
   ]
  },
  {
   "cell_type": "markdown",
   "metadata": {},
   "source": [
    "## Test"
   ]
  },
  {
   "cell_type": "code",
   "execution_count": 78,
   "metadata": {},
   "outputs": [
    {
     "data": {
      "text/html": [
       "<div>\n",
       "<style scoped>\n",
       "    .dataframe tbody tr th:only-of-type {\n",
       "        vertical-align: middle;\n",
       "    }\n",
       "\n",
       "    .dataframe tbody tr th {\n",
       "        vertical-align: top;\n",
       "    }\n",
       "\n",
       "    .dataframe thead th {\n",
       "        text-align: right;\n",
       "    }\n",
       "</style>\n",
       "<table border=\"1\" class=\"dataframe\">\n",
       "  <thead>\n",
       "    <tr style=\"text-align: right;\">\n",
       "      <th></th>\n",
       "      <th>retweet_count</th>\n",
       "      <th>favorite_count</th>\n",
       "      <th>text</th>\n",
       "      <th>tweet_id</th>\n",
       "      <th>jpg_url</th>\n",
       "      <th>img_num</th>\n",
       "      <th>p1</th>\n",
       "      <th>p1_conf</th>\n",
       "      <th>p1_dog</th>\n",
       "      <th>p2</th>\n",
       "      <th>p2_conf</th>\n",
       "      <th>p2_dog</th>\n",
       "      <th>p3</th>\n",
       "      <th>p3_conf</th>\n",
       "      <th>p3_dog</th>\n",
       "    </tr>\n",
       "  </thead>\n",
       "  <tbody>\n",
       "    <tr>\n",
       "      <th>0</th>\n",
       "      <td>47.0</td>\n",
       "      <td>128.0</td>\n",
       "      <td>This is a western brown Mitsubishi terrier. Up...</td>\n",
       "      <td>666029285002620928</td>\n",
       "      <td>https://pbs.twimg.com/media/CT42GRgUYAA5iDo.jpg</td>\n",
       "      <td>1</td>\n",
       "      <td>redbone</td>\n",
       "      <td>0.506826</td>\n",
       "      <td>True</td>\n",
       "      <td>miniature_pinscher</td>\n",
       "      <td>0.074192</td>\n",
       "      <td>True</td>\n",
       "      <td>Rhodesian_ridgeback</td>\n",
       "      <td>0.072010</td>\n",
       "      <td>True</td>\n",
       "    </tr>\n",
       "    <tr>\n",
       "      <th>1</th>\n",
       "      <td>140.0</td>\n",
       "      <td>297.0</td>\n",
       "      <td>This is a purebred Piers Morgan. Loves to Netf...</td>\n",
       "      <td>666044226329800704</td>\n",
       "      <td>https://pbs.twimg.com/media/CT5Dr8HUEAA-lEu.jpg</td>\n",
       "      <td>1</td>\n",
       "      <td>Rhodesian_ridgeback</td>\n",
       "      <td>0.408143</td>\n",
       "      <td>True</td>\n",
       "      <td>redbone</td>\n",
       "      <td>0.360687</td>\n",
       "      <td>True</td>\n",
       "      <td>miniature_pinscher</td>\n",
       "      <td>0.222752</td>\n",
       "      <td>True</td>\n",
       "    </tr>\n",
       "    <tr>\n",
       "      <th>2</th>\n",
       "      <td>843.0</td>\n",
       "      <td>1210.0</td>\n",
       "      <td>This is an odd dog. Hard on the outside but lo...</td>\n",
       "      <td>666051853826850816</td>\n",
       "      <td>https://pbs.twimg.com/media/CT5KoJ1WoAAJash.jpg</td>\n",
       "      <td>1</td>\n",
       "      <td>box_turtle</td>\n",
       "      <td>0.933012</td>\n",
       "      <td>False</td>\n",
       "      <td>mud_turtle</td>\n",
       "      <td>0.045885</td>\n",
       "      <td>False</td>\n",
       "      <td>terrapin</td>\n",
       "      <td>0.017885</td>\n",
       "      <td>False</td>\n",
       "    </tr>\n",
       "    <tr>\n",
       "      <th>3</th>\n",
       "      <td>141.0</td>\n",
       "      <td>294.0</td>\n",
       "      <td>My oh my. This is a rare blond Canadian terrie...</td>\n",
       "      <td>666057090499244032</td>\n",
       "      <td>https://pbs.twimg.com/media/CT5PY90WoAAQGLo.jpg</td>\n",
       "      <td>1</td>\n",
       "      <td>shopping_cart</td>\n",
       "      <td>0.962465</td>\n",
       "      <td>False</td>\n",
       "      <td>shopping_basket</td>\n",
       "      <td>0.014594</td>\n",
       "      <td>False</td>\n",
       "      <td>golden_retriever</td>\n",
       "      <td>0.007959</td>\n",
       "      <td>True</td>\n",
       "    </tr>\n",
       "    <tr>\n",
       "      <th>4</th>\n",
       "      <td>57.0</td>\n",
       "      <td>111.0</td>\n",
       "      <td>Here is the Rand Paul of retrievers folks! He'...</td>\n",
       "      <td>666058600524156928</td>\n",
       "      <td>https://pbs.twimg.com/media/CT5Qw94XAAA_2dP.jpg</td>\n",
       "      <td>1</td>\n",
       "      <td>miniature_poodle</td>\n",
       "      <td>0.201493</td>\n",
       "      <td>True</td>\n",
       "      <td>komondor</td>\n",
       "      <td>0.192305</td>\n",
       "      <td>True</td>\n",
       "      <td>soft-coated_wheaten_terrier</td>\n",
       "      <td>0.082086</td>\n",
       "      <td>True</td>\n",
       "    </tr>\n",
       "  </tbody>\n",
       "</table>\n",
       "</div>"
      ],
      "text/plain": [
       "   retweet_count  favorite_count  \\\n",
       "0           47.0           128.0   \n",
       "1          140.0           297.0   \n",
       "2          843.0          1210.0   \n",
       "3          141.0           294.0   \n",
       "4           57.0           111.0   \n",
       "\n",
       "                                                text            tweet_id  \\\n",
       "0  This is a western brown Mitsubishi terrier. Up...  666029285002620928   \n",
       "1  This is a purebred Piers Morgan. Loves to Netf...  666044226329800704   \n",
       "2  This is an odd dog. Hard on the outside but lo...  666051853826850816   \n",
       "3  My oh my. This is a rare blond Canadian terrie...  666057090499244032   \n",
       "4  Here is the Rand Paul of retrievers folks! He'...  666058600524156928   \n",
       "\n",
       "                                           jpg_url  img_num  \\\n",
       "0  https://pbs.twimg.com/media/CT42GRgUYAA5iDo.jpg        1   \n",
       "1  https://pbs.twimg.com/media/CT5Dr8HUEAA-lEu.jpg        1   \n",
       "2  https://pbs.twimg.com/media/CT5KoJ1WoAAJash.jpg        1   \n",
       "3  https://pbs.twimg.com/media/CT5PY90WoAAQGLo.jpg        1   \n",
       "4  https://pbs.twimg.com/media/CT5Qw94XAAA_2dP.jpg        1   \n",
       "\n",
       "                    p1   p1_conf  p1_dog                  p2   p2_conf  \\\n",
       "0              redbone  0.506826    True  miniature_pinscher  0.074192   \n",
       "1  Rhodesian_ridgeback  0.408143    True             redbone  0.360687   \n",
       "2           box_turtle  0.933012   False          mud_turtle  0.045885   \n",
       "3        shopping_cart  0.962465   False     shopping_basket  0.014594   \n",
       "4     miniature_poodle  0.201493    True            komondor  0.192305   \n",
       "\n",
       "   p2_dog                           p3   p3_conf  p3_dog  \n",
       "0    True          Rhodesian_ridgeback  0.072010    True  \n",
       "1    True           miniature_pinscher  0.222752    True  \n",
       "2   False                     terrapin  0.017885   False  \n",
       "3   False             golden_retriever  0.007959    True  \n",
       "4    True  soft-coated_wheaten_terrier  0.082086    True  "
      ]
     },
     "execution_count": 78,
     "metadata": {},
     "output_type": "execute_result"
    }
   ],
   "source": [
    "tweet_images_df.head()"
   ]
  },
  {
   "cell_type": "code",
   "execution_count": 79,
   "metadata": {},
   "outputs": [
    {
     "data": {
      "text/html": [
       "<div>\n",
       "<style scoped>\n",
       "    .dataframe tbody tr th:only-of-type {\n",
       "        vertical-align: middle;\n",
       "    }\n",
       "\n",
       "    .dataframe tbody tr th {\n",
       "        vertical-align: top;\n",
       "    }\n",
       "\n",
       "    .dataframe thead th {\n",
       "        text-align: right;\n",
       "    }\n",
       "</style>\n",
       "<table border=\"1\" class=\"dataframe\">\n",
       "  <thead>\n",
       "    <tr style=\"text-align: right;\">\n",
       "      <th></th>\n",
       "      <th>retweet_count</th>\n",
       "      <th>favorite_count</th>\n",
       "      <th>text</th>\n",
       "      <th>tweet_id</th>\n",
       "      <th>jpg_url</th>\n",
       "      <th>img_num</th>\n",
       "      <th>p1</th>\n",
       "      <th>p1_conf</th>\n",
       "      <th>p1_dog</th>\n",
       "      <th>p2</th>\n",
       "      <th>p2_conf</th>\n",
       "      <th>p2_dog</th>\n",
       "      <th>p3</th>\n",
       "      <th>p3_conf</th>\n",
       "      <th>p3_dog</th>\n",
       "    </tr>\n",
       "  </thead>\n",
       "  <tbody>\n",
       "    <tr>\n",
       "      <th>2070</th>\n",
       "      <td>NaN</td>\n",
       "      <td>NaN</td>\n",
       "      <td>NaN</td>\n",
       "      <td>889880896479866881</td>\n",
       "      <td>https://pbs.twimg.com/media/DFl99B1WsAITKsg.jpg</td>\n",
       "      <td>1</td>\n",
       "      <td>French_bulldog</td>\n",
       "      <td>0.377417</td>\n",
       "      <td>True</td>\n",
       "      <td>Labrador_retriever</td>\n",
       "      <td>0.151317</td>\n",
       "      <td>True</td>\n",
       "      <td>muzzle</td>\n",
       "      <td>0.082981</td>\n",
       "      <td>False</td>\n",
       "    </tr>\n",
       "    <tr>\n",
       "      <th>2071</th>\n",
       "      <td>NaN</td>\n",
       "      <td>NaN</td>\n",
       "      <td>NaN</td>\n",
       "      <td>890240255349198849</td>\n",
       "      <td>https://pbs.twimg.com/media/DFrEyVuW0AAO3t9.jpg</td>\n",
       "      <td>1</td>\n",
       "      <td>Pembroke</td>\n",
       "      <td>0.511319</td>\n",
       "      <td>True</td>\n",
       "      <td>Cardigan</td>\n",
       "      <td>0.451038</td>\n",
       "      <td>True</td>\n",
       "      <td>Chihuahua</td>\n",
       "      <td>0.029248</td>\n",
       "      <td>True</td>\n",
       "    </tr>\n",
       "    <tr>\n",
       "      <th>2072</th>\n",
       "      <td>NaN</td>\n",
       "      <td>NaN</td>\n",
       "      <td>NaN</td>\n",
       "      <td>890971913173991426</td>\n",
       "      <td>https://pbs.twimg.com/media/DF1eOmZXUAALUcq.jpg</td>\n",
       "      <td>1</td>\n",
       "      <td>Appenzeller</td>\n",
       "      <td>0.341703</td>\n",
       "      <td>True</td>\n",
       "      <td>Border_collie</td>\n",
       "      <td>0.199287</td>\n",
       "      <td>True</td>\n",
       "      <td>ice_lolly</td>\n",
       "      <td>0.193548</td>\n",
       "      <td>False</td>\n",
       "    </tr>\n",
       "    <tr>\n",
       "      <th>2073</th>\n",
       "      <td>NaN</td>\n",
       "      <td>NaN</td>\n",
       "      <td>NaN</td>\n",
       "      <td>892177421306343426</td>\n",
       "      <td>https://pbs.twimg.com/media/DGGmoV4XsAAUL6n.jpg</td>\n",
       "      <td>1</td>\n",
       "      <td>Chihuahua</td>\n",
       "      <td>0.323581</td>\n",
       "      <td>True</td>\n",
       "      <td>Pekinese</td>\n",
       "      <td>0.090647</td>\n",
       "      <td>True</td>\n",
       "      <td>papillon</td>\n",
       "      <td>0.068957</td>\n",
       "      <td>True</td>\n",
       "    </tr>\n",
       "    <tr>\n",
       "      <th>2074</th>\n",
       "      <td>NaN</td>\n",
       "      <td>NaN</td>\n",
       "      <td>NaN</td>\n",
       "      <td>892420643555336193</td>\n",
       "      <td>https://pbs.twimg.com/media/DGKD1-bXoAAIAUK.jpg</td>\n",
       "      <td>1</td>\n",
       "      <td>orange</td>\n",
       "      <td>0.097049</td>\n",
       "      <td>False</td>\n",
       "      <td>bagel</td>\n",
       "      <td>0.085851</td>\n",
       "      <td>False</td>\n",
       "      <td>banana</td>\n",
       "      <td>0.076110</td>\n",
       "      <td>False</td>\n",
       "    </tr>\n",
       "  </tbody>\n",
       "</table>\n",
       "</div>"
      ],
      "text/plain": [
       "      retweet_count  favorite_count text            tweet_id  \\\n",
       "2070            NaN             NaN  NaN  889880896479866881   \n",
       "2071            NaN             NaN  NaN  890240255349198849   \n",
       "2072            NaN             NaN  NaN  890971913173991426   \n",
       "2073            NaN             NaN  NaN  892177421306343426   \n",
       "2074            NaN             NaN  NaN  892420643555336193   \n",
       "\n",
       "                                              jpg_url  img_num  \\\n",
       "2070  https://pbs.twimg.com/media/DFl99B1WsAITKsg.jpg        1   \n",
       "2071  https://pbs.twimg.com/media/DFrEyVuW0AAO3t9.jpg        1   \n",
       "2072  https://pbs.twimg.com/media/DF1eOmZXUAALUcq.jpg        1   \n",
       "2073  https://pbs.twimg.com/media/DGGmoV4XsAAUL6n.jpg        1   \n",
       "2074  https://pbs.twimg.com/media/DGKD1-bXoAAIAUK.jpg        1   \n",
       "\n",
       "                  p1   p1_conf  p1_dog                  p2   p2_conf  p2_dog  \\\n",
       "2070  French_bulldog  0.377417    True  Labrador_retriever  0.151317    True   \n",
       "2071        Pembroke  0.511319    True            Cardigan  0.451038    True   \n",
       "2072     Appenzeller  0.341703    True       Border_collie  0.199287    True   \n",
       "2073       Chihuahua  0.323581    True            Pekinese  0.090647    True   \n",
       "2074          orange  0.097049   False               bagel  0.085851   False   \n",
       "\n",
       "             p3   p3_conf  p3_dog  \n",
       "2070     muzzle  0.082981   False  \n",
       "2071  Chihuahua  0.029248    True  \n",
       "2072  ice_lolly  0.193548   False  \n",
       "2073   papillon  0.068957    True  \n",
       "2074     banana  0.076110   False  "
      ]
     },
     "execution_count": 79,
     "metadata": {},
     "output_type": "execute_result"
    }
   ],
   "source": [
    "tweet_images_df.tail()"
   ]
  },
  {
   "cell_type": "markdown",
   "metadata": {},
   "source": [
    "## Define"
   ]
  },
  {
   "cell_type": "markdown",
   "metadata": {},
   "source": [
    "Renomear tweet_id por id"
   ]
  },
  {
   "cell_type": "markdown",
   "metadata": {},
   "source": [
    "## Code"
   ]
  },
  {
   "cell_type": "code",
   "execution_count": 10,
   "metadata": {},
   "outputs": [],
   "source": [
    "tweet_images_df.rename(columns={'tweet_id': 'id'}, inplace=True)"
   ]
  },
  {
   "cell_type": "markdown",
   "metadata": {},
   "source": [
    "## Define"
   ]
  },
  {
   "cell_type": "markdown",
   "metadata": {},
   "source": [
    "Usar merge para unir dataframe criado anteriormente (image-predictions.tsv + tweet_json.json) e 'new_doggo_df' (twitter-archive-enhanced.csv)"
   ]
  },
  {
   "cell_type": "markdown",
   "metadata": {},
   "source": [
    "## Code"
   ]
  },
  {
   "cell_type": "code",
   "execution_count": 11,
   "metadata": {},
   "outputs": [],
   "source": [
    "final_df = pd.merge(tweet_images_df, new_doggo_df,\n",
    "                            left_on='id', right_on='tweet_id', \n",
    "                            how='right').drop('tweet_id', axis=1)"
   ]
  },
  {
   "cell_type": "markdown",
   "metadata": {},
   "source": [
    "## Define"
   ]
  },
  {
   "cell_type": "markdown",
   "metadata": {},
   "source": [
    "Deletar linhas que não tenham url de jpg para não incluir tweets sem imagens"
   ]
  },
  {
   "cell_type": "markdown",
   "metadata": {},
   "source": [
    "## Code"
   ]
  },
  {
   "cell_type": "code",
   "execution_count": 12,
   "metadata": {},
   "outputs": [],
   "source": [
    "final_df = final_df.dropna(subset=['jpg_url'])"
   ]
  },
  {
   "cell_type": "markdown",
   "metadata": {},
   "source": [
    "## Define"
   ]
  },
  {
   "cell_type": "markdown",
   "metadata": {},
   "source": [
    "Substituir valores para padronizar e melhorar leitura dos dados"
   ]
  },
  {
   "cell_type": "markdown",
   "metadata": {},
   "source": [
    "## Code"
   ]
  },
  {
   "cell_type": "code",
   "execution_count": 13,
   "metadata": {},
   "outputs": [],
   "source": [
    "final_df.is_copy = False\n",
    "final_df.retweet_count.fillna(0, inplace=True)\n",
    "final_df.favorite_count.fillna(0, inplace=True)\n",
    "final_df.text.fillna('No text', inplace=True)"
   ]
  },
  {
   "cell_type": "code",
   "execution_count": 14,
   "metadata": {},
   "outputs": [],
   "source": [
    "dog_list = ['a', 'an', 'the']\n",
    "\n",
    "for j in dog_list:\n",
    "    if len(j) < 4:\n",
    "        final_df.name.replace(j, 'Dog', inplace=True)\n",
    "        \n",
    "final_df['name'] = final_df['name'].str.replace('None', 'Dog')"
   ]
  },
  {
   "cell_type": "code",
   "execution_count": 15,
   "metadata": {},
   "outputs": [],
   "source": [
    "final_df['doggo'] = final_df['doggo'].str.replace('None', 'False')\n",
    "final_df['pupper'] = final_df['pupper'].str.replace('None', 'False')\n",
    "final_df['floofer'] = final_df['floofer'].str.replace('None', 'False')\n",
    "final_df['puppo'] = final_df['puppo'].str.replace('None', 'False')\n",
    "\n",
    "final_df['doggo'] = final_df['doggo'].str.replace('doggo', 'True')\n",
    "final_df['pupper'] = final_df['pupper'].str.replace('pupper', 'True')\n",
    "final_df['floofer'] = final_df['floofer'].str.replace('floofer', 'True')\n",
    "final_df['puppo'] = final_df['puppo'].str.replace('puppo', 'True')\n",
    "\n",
    "#Doggo\n",
    "final_df['doggo'] = final_df['doggo'].str.replace('pupper', 'False')\n",
    "final_df['doggo'] = final_df['doggo'].str.replace('floofer', 'False')\n",
    "final_df['doggo'] = final_df['doggo'].str.replace('puppo', 'False')\n",
    "\n",
    "#Pupper\n",
    "final_df['pupper'] = final_df['pupper'].str.replace('doggo', 'True')\n",
    "final_df['pupper'] = final_df['pupper'].str.replace('floofer', 'True')\n",
    "final_df['pupper'] = final_df['pupper'].str.replace('puppo', 'True')\n",
    "\n",
    "#Fluffer\n",
    "final_df['floofer'] = final_df['floofer'].str.replace('doggo', 'True')\n",
    "final_df['floofer'] = final_df['floofer'].str.replace('pupper', 'True')\n",
    "final_df['floofer'] = final_df['floofer'].str.replace('puppo', 'True')\n",
    "\n",
    "#Puppo\n",
    "final_df['puppo'] = final_df['puppo'].str.replace('doggo', 'True')\n",
    "final_df['puppo'] = final_df['puppo'].str.replace('pupper', 'True')\n",
    "final_df['puppo'] = final_df['puppo'].str.replace('floofer', 'True')"
   ]
  },
  {
   "cell_type": "markdown",
   "metadata": {},
   "source": [
    "## Define"
   ]
  },
  {
   "cell_type": "markdown",
   "metadata": {},
   "source": [
    "Mudar nome das colunas"
   ]
  },
  {
   "cell_type": "markdown",
   "metadata": {},
   "source": [
    "## Code"
   ]
  },
  {
   "cell_type": "code",
   "execution_count": 16,
   "metadata": {},
   "outputs": [],
   "source": [
    "final_df = final_df.rename(columns={'retweet_count': 'Retweets',\n",
    "                                    'favorite_count': 'Favorites',\n",
    "                                    'text': 'Text',\n",
    "                                    'id': 'Id',\n",
    "                                    'jpg_url': 'Jpg url',\n",
    "                                    'img_num': 'Image num',\n",
    "                                    'p1': 'Prediction 1',\n",
    "                                    'p1_conf': 'Reliability 1',\n",
    "                                    'p1_dog': 'Breed 1',\n",
    "                                    'p2': 'Prediction 2',\n",
    "                                    'p2_conf': 'Reliability 2',\n",
    "                                    'p2_dog': 'Breed 2',\n",
    "                                    'p3': 'Prediction 3',\n",
    "                                    'p3_conf': 'Reliability 3',\n",
    "                                    'p3_dog': 'Breed 3',\n",
    "                                    'name': 'Name',\n",
    "                                    'doggo': 'Doggo',\n",
    "                                    'floofer': 'Floofer',\n",
    "                                    'pupper': 'Pupper',\n",
    "                                    'puppo': 'Puppo'})        "
   ]
  },
  {
   "cell_type": "markdown",
   "metadata": {},
   "source": [
    "## Define"
   ]
  },
  {
   "cell_type": "markdown",
   "metadata": {},
   "source": [
    "Concaternar os valores de 'rating_numerator' e 'rating_denominator'"
   ]
  },
  {
   "cell_type": "markdown",
   "metadata": {},
   "source": [
    "## Code"
   ]
  },
  {
   "cell_type": "code",
   "execution_count": 17,
   "metadata": {},
   "outputs": [],
   "source": [
    "final_df['Rating'] = final_df['rating_numerator'].map(str)+'/'+final_df['rating_denominator'].map(str)"
   ]
  },
  {
   "cell_type": "markdown",
   "metadata": {},
   "source": [
    "## Define"
   ]
  },
  {
   "cell_type": "markdown",
   "metadata": {},
   "source": [
    "Deletar colunas 'rating_numerator' e 'rating_denominator'"
   ]
  },
  {
   "cell_type": "markdown",
   "metadata": {},
   "source": [
    "## Code"
   ]
  },
  {
   "cell_type": "code",
   "execution_count": 18,
   "metadata": {},
   "outputs": [],
   "source": [
    "final_df = final_df.drop(['rating_numerator', 'rating_denominator'], axis=1)"
   ]
  },
  {
   "cell_type": "markdown",
   "metadata": {},
   "source": [
    "## Define"
   ]
  },
  {
   "cell_type": "markdown",
   "metadata": {},
   "source": [
    "Capitalizar a primeira letra dos nomes de raças em previsões"
   ]
  },
  {
   "cell_type": "markdown",
   "metadata": {},
   "source": [
    "## Code"
   ]
  },
  {
   "cell_type": "code",
   "execution_count": 19,
   "metadata": {},
   "outputs": [],
   "source": [
    "final_df['Prediction 1'] = final_df['Prediction 1'].str.title()\n",
    "final_df['Prediction 2'] = final_df['Prediction 2'].str.title()\n",
    "final_df['Prediction 3'] = final_df['Prediction 3'].str.title()"
   ]
  },
  {
   "cell_type": "markdown",
   "metadata": {},
   "source": [
    "# Tests"
   ]
  },
  {
   "cell_type": "code",
   "execution_count": 42,
   "metadata": {},
   "outputs": [
    {
     "data": {
      "text/html": [
       "<div>\n",
       "<style scoped>\n",
       "    .dataframe tbody tr th:only-of-type {\n",
       "        vertical-align: middle;\n",
       "    }\n",
       "\n",
       "    .dataframe tbody tr th {\n",
       "        vertical-align: top;\n",
       "    }\n",
       "\n",
       "    .dataframe thead th {\n",
       "        text-align: right;\n",
       "    }\n",
       "</style>\n",
       "<table border=\"1\" class=\"dataframe\">\n",
       "  <thead>\n",
       "    <tr style=\"text-align: right;\">\n",
       "      <th></th>\n",
       "      <th>Retweets</th>\n",
       "      <th>Favorites</th>\n",
       "      <th>Text</th>\n",
       "      <th>Id</th>\n",
       "      <th>Jpg url</th>\n",
       "      <th>Image num</th>\n",
       "      <th>Prediction 1</th>\n",
       "      <th>Reliability 1</th>\n",
       "      <th>Breed 1</th>\n",
       "      <th>Prediction 2</th>\n",
       "      <th>...</th>\n",
       "      <th>Breed 2</th>\n",
       "      <th>Prediction 3</th>\n",
       "      <th>Reliability 3</th>\n",
       "      <th>Breed 3</th>\n",
       "      <th>Name</th>\n",
       "      <th>Doggo</th>\n",
       "      <th>Floofer</th>\n",
       "      <th>Pupper</th>\n",
       "      <th>Puppo</th>\n",
       "      <th>Rating</th>\n",
       "    </tr>\n",
       "  </thead>\n",
       "  <tbody>\n",
       "    <tr>\n",
       "      <th>0</th>\n",
       "      <td>47.0</td>\n",
       "      <td>128.0</td>\n",
       "      <td>This is a western brown Mitsubishi terrier. Up...</td>\n",
       "      <td>6.660293e+17</td>\n",
       "      <td>https://pbs.twimg.com/media/CT42GRgUYAA5iDo.jpg</td>\n",
       "      <td>1.0</td>\n",
       "      <td>Redbone</td>\n",
       "      <td>0.506826</td>\n",
       "      <td>True</td>\n",
       "      <td>Miniature_Pinscher</td>\n",
       "      <td>...</td>\n",
       "      <td>True</td>\n",
       "      <td>Rhodesian_Ridgeback</td>\n",
       "      <td>0.072010</td>\n",
       "      <td>True</td>\n",
       "      <td>Dog</td>\n",
       "      <td>False</td>\n",
       "      <td>False</td>\n",
       "      <td>False</td>\n",
       "      <td>False</td>\n",
       "      <td>7/10</td>\n",
       "    </tr>\n",
       "    <tr>\n",
       "      <th>1</th>\n",
       "      <td>140.0</td>\n",
       "      <td>297.0</td>\n",
       "      <td>This is a purebred Piers Morgan. Loves to Netf...</td>\n",
       "      <td>6.660442e+17</td>\n",
       "      <td>https://pbs.twimg.com/media/CT5Dr8HUEAA-lEu.jpg</td>\n",
       "      <td>1.0</td>\n",
       "      <td>Rhodesian_Ridgeback</td>\n",
       "      <td>0.408143</td>\n",
       "      <td>True</td>\n",
       "      <td>Redbone</td>\n",
       "      <td>...</td>\n",
       "      <td>True</td>\n",
       "      <td>Miniature_Pinscher</td>\n",
       "      <td>0.222752</td>\n",
       "      <td>True</td>\n",
       "      <td>Dog</td>\n",
       "      <td>False</td>\n",
       "      <td>False</td>\n",
       "      <td>False</td>\n",
       "      <td>False</td>\n",
       "      <td>6/10</td>\n",
       "    </tr>\n",
       "    <tr>\n",
       "      <th>2</th>\n",
       "      <td>843.0</td>\n",
       "      <td>1210.0</td>\n",
       "      <td>This is an odd dog. Hard on the outside but lo...</td>\n",
       "      <td>6.660519e+17</td>\n",
       "      <td>https://pbs.twimg.com/media/CT5KoJ1WoAAJash.jpg</td>\n",
       "      <td>1.0</td>\n",
       "      <td>Box_Turtle</td>\n",
       "      <td>0.933012</td>\n",
       "      <td>False</td>\n",
       "      <td>Mud_Turtle</td>\n",
       "      <td>...</td>\n",
       "      <td>False</td>\n",
       "      <td>Terrapin</td>\n",
       "      <td>0.017885</td>\n",
       "      <td>False</td>\n",
       "      <td>Dog</td>\n",
       "      <td>False</td>\n",
       "      <td>False</td>\n",
       "      <td>False</td>\n",
       "      <td>False</td>\n",
       "      <td>2/10</td>\n",
       "    </tr>\n",
       "    <tr>\n",
       "      <th>3</th>\n",
       "      <td>141.0</td>\n",
       "      <td>294.0</td>\n",
       "      <td>My oh my. This is a rare blond Canadian terrie...</td>\n",
       "      <td>6.660571e+17</td>\n",
       "      <td>https://pbs.twimg.com/media/CT5PY90WoAAQGLo.jpg</td>\n",
       "      <td>1.0</td>\n",
       "      <td>Shopping_Cart</td>\n",
       "      <td>0.962465</td>\n",
       "      <td>False</td>\n",
       "      <td>Shopping_Basket</td>\n",
       "      <td>...</td>\n",
       "      <td>False</td>\n",
       "      <td>Golden_Retriever</td>\n",
       "      <td>0.007959</td>\n",
       "      <td>True</td>\n",
       "      <td>Dog</td>\n",
       "      <td>False</td>\n",
       "      <td>False</td>\n",
       "      <td>False</td>\n",
       "      <td>False</td>\n",
       "      <td>9/10</td>\n",
       "    </tr>\n",
       "    <tr>\n",
       "      <th>4</th>\n",
       "      <td>57.0</td>\n",
       "      <td>111.0</td>\n",
       "      <td>Here is the Rand Paul of retrievers folks! He'...</td>\n",
       "      <td>6.660586e+17</td>\n",
       "      <td>https://pbs.twimg.com/media/CT5Qw94XAAA_2dP.jpg</td>\n",
       "      <td>1.0</td>\n",
       "      <td>Miniature_Poodle</td>\n",
       "      <td>0.201493</td>\n",
       "      <td>True</td>\n",
       "      <td>Komondor</td>\n",
       "      <td>...</td>\n",
       "      <td>True</td>\n",
       "      <td>Soft-Coated_Wheaten_Terrier</td>\n",
       "      <td>0.082086</td>\n",
       "      <td>True</td>\n",
       "      <td>Dog</td>\n",
       "      <td>False</td>\n",
       "      <td>False</td>\n",
       "      <td>False</td>\n",
       "      <td>False</td>\n",
       "      <td>8/10</td>\n",
       "    </tr>\n",
       "  </tbody>\n",
       "</table>\n",
       "<p>5 rows × 21 columns</p>\n",
       "</div>"
      ],
      "text/plain": [
       "   Retweets  Favorites                                               Text  \\\n",
       "0      47.0      128.0  This is a western brown Mitsubishi terrier. Up...   \n",
       "1     140.0      297.0  This is a purebred Piers Morgan. Loves to Netf...   \n",
       "2     843.0     1210.0  This is an odd dog. Hard on the outside but lo...   \n",
       "3     141.0      294.0  My oh my. This is a rare blond Canadian terrie...   \n",
       "4      57.0      111.0  Here is the Rand Paul of retrievers folks! He'...   \n",
       "\n",
       "             Id                                          Jpg url  Image num  \\\n",
       "0  6.660293e+17  https://pbs.twimg.com/media/CT42GRgUYAA5iDo.jpg        1.0   \n",
       "1  6.660442e+17  https://pbs.twimg.com/media/CT5Dr8HUEAA-lEu.jpg        1.0   \n",
       "2  6.660519e+17  https://pbs.twimg.com/media/CT5KoJ1WoAAJash.jpg        1.0   \n",
       "3  6.660571e+17  https://pbs.twimg.com/media/CT5PY90WoAAQGLo.jpg        1.0   \n",
       "4  6.660586e+17  https://pbs.twimg.com/media/CT5Qw94XAAA_2dP.jpg        1.0   \n",
       "\n",
       "          Prediction 1  Reliability 1 Breed 1        Prediction 2  ...    \\\n",
       "0              Redbone       0.506826    True  Miniature_Pinscher  ...     \n",
       "1  Rhodesian_Ridgeback       0.408143    True             Redbone  ...     \n",
       "2           Box_Turtle       0.933012   False          Mud_Turtle  ...     \n",
       "3        Shopping_Cart       0.962465   False     Shopping_Basket  ...     \n",
       "4     Miniature_Poodle       0.201493    True            Komondor  ...     \n",
       "\n",
       "   Breed 2                 Prediction 3 Reliability 3  Breed 3 Name  Doggo  \\\n",
       "0     True          Rhodesian_Ridgeback      0.072010     True  Dog  False   \n",
       "1     True           Miniature_Pinscher      0.222752     True  Dog  False   \n",
       "2    False                     Terrapin      0.017885    False  Dog  False   \n",
       "3    False             Golden_Retriever      0.007959     True  Dog  False   \n",
       "4     True  Soft-Coated_Wheaten_Terrier      0.082086     True  Dog  False   \n",
       "\n",
       "  Floofer Pupper  Puppo Rating  \n",
       "0   False  False  False   7/10  \n",
       "1   False  False  False   6/10  \n",
       "2   False  False  False   2/10  \n",
       "3   False  False  False   9/10  \n",
       "4   False  False  False   8/10  \n",
       "\n",
       "[5 rows x 21 columns]"
      ]
     },
     "execution_count": 42,
     "metadata": {},
     "output_type": "execute_result"
    }
   ],
   "source": [
    "final_df.head()"
   ]
  },
  {
   "cell_type": "code",
   "execution_count": 44,
   "metadata": {},
   "outputs": [
    {
     "data": {
      "text/html": [
       "<div>\n",
       "<style scoped>\n",
       "    .dataframe tbody tr th:only-of-type {\n",
       "        vertical-align: middle;\n",
       "    }\n",
       "\n",
       "    .dataframe tbody tr th {\n",
       "        vertical-align: top;\n",
       "    }\n",
       "\n",
       "    .dataframe thead th {\n",
       "        text-align: right;\n",
       "    }\n",
       "</style>\n",
       "<table border=\"1\" class=\"dataframe\">\n",
       "  <thead>\n",
       "    <tr style=\"text-align: right;\">\n",
       "      <th></th>\n",
       "      <th>Retweets</th>\n",
       "      <th>Favorites</th>\n",
       "      <th>Text</th>\n",
       "      <th>Id</th>\n",
       "      <th>Jpg url</th>\n",
       "      <th>Image num</th>\n",
       "      <th>Prediction 1</th>\n",
       "      <th>Reliability 1</th>\n",
       "      <th>Breed 1</th>\n",
       "      <th>Prediction 2</th>\n",
       "      <th>...</th>\n",
       "      <th>Breed 2</th>\n",
       "      <th>Prediction 3</th>\n",
       "      <th>Reliability 3</th>\n",
       "      <th>Breed 3</th>\n",
       "      <th>Name</th>\n",
       "      <th>Doggo</th>\n",
       "      <th>Floofer</th>\n",
       "      <th>Pupper</th>\n",
       "      <th>Puppo</th>\n",
       "      <th>Rating</th>\n",
       "    </tr>\n",
       "  </thead>\n",
       "  <tbody>\n",
       "    <tr>\n",
       "      <th>2070</th>\n",
       "      <td>0.0</td>\n",
       "      <td>0.0</td>\n",
       "      <td>No text</td>\n",
       "      <td>8.898809e+17</td>\n",
       "      <td>https://pbs.twimg.com/media/DFl99B1WsAITKsg.jpg</td>\n",
       "      <td>1.0</td>\n",
       "      <td>French_Bulldog</td>\n",
       "      <td>0.377417</td>\n",
       "      <td>True</td>\n",
       "      <td>Labrador_Retriever</td>\n",
       "      <td>...</td>\n",
       "      <td>True</td>\n",
       "      <td>Muzzle</td>\n",
       "      <td>0.082981</td>\n",
       "      <td>False</td>\n",
       "      <td>Bruno</td>\n",
       "      <td>False</td>\n",
       "      <td>False</td>\n",
       "      <td>False</td>\n",
       "      <td>False</td>\n",
       "      <td>13/10</td>\n",
       "    </tr>\n",
       "    <tr>\n",
       "      <th>2071</th>\n",
       "      <td>0.0</td>\n",
       "      <td>0.0</td>\n",
       "      <td>No text</td>\n",
       "      <td>8.902403e+17</td>\n",
       "      <td>https://pbs.twimg.com/media/DFrEyVuW0AAO3t9.jpg</td>\n",
       "      <td>1.0</td>\n",
       "      <td>Pembroke</td>\n",
       "      <td>0.511319</td>\n",
       "      <td>True</td>\n",
       "      <td>Cardigan</td>\n",
       "      <td>...</td>\n",
       "      <td>True</td>\n",
       "      <td>Chihuahua</td>\n",
       "      <td>0.029248</td>\n",
       "      <td>True</td>\n",
       "      <td>Cassie</td>\n",
       "      <td>True</td>\n",
       "      <td>False</td>\n",
       "      <td>False</td>\n",
       "      <td>False</td>\n",
       "      <td>14/10</td>\n",
       "    </tr>\n",
       "    <tr>\n",
       "      <th>2072</th>\n",
       "      <td>0.0</td>\n",
       "      <td>0.0</td>\n",
       "      <td>No text</td>\n",
       "      <td>8.909719e+17</td>\n",
       "      <td>https://pbs.twimg.com/media/DF1eOmZXUAALUcq.jpg</td>\n",
       "      <td>1.0</td>\n",
       "      <td>Appenzeller</td>\n",
       "      <td>0.341703</td>\n",
       "      <td>True</td>\n",
       "      <td>Border_Collie</td>\n",
       "      <td>...</td>\n",
       "      <td>True</td>\n",
       "      <td>Ice_Lolly</td>\n",
       "      <td>0.193548</td>\n",
       "      <td>False</td>\n",
       "      <td>Jax</td>\n",
       "      <td>False</td>\n",
       "      <td>False</td>\n",
       "      <td>False</td>\n",
       "      <td>False</td>\n",
       "      <td>13/10</td>\n",
       "    </tr>\n",
       "    <tr>\n",
       "      <th>2073</th>\n",
       "      <td>0.0</td>\n",
       "      <td>0.0</td>\n",
       "      <td>No text</td>\n",
       "      <td>8.921774e+17</td>\n",
       "      <td>https://pbs.twimg.com/media/DGGmoV4XsAAUL6n.jpg</td>\n",
       "      <td>1.0</td>\n",
       "      <td>Chihuahua</td>\n",
       "      <td>0.323581</td>\n",
       "      <td>True</td>\n",
       "      <td>Pekinese</td>\n",
       "      <td>...</td>\n",
       "      <td>True</td>\n",
       "      <td>Papillon</td>\n",
       "      <td>0.068957</td>\n",
       "      <td>True</td>\n",
       "      <td>Tilly</td>\n",
       "      <td>False</td>\n",
       "      <td>False</td>\n",
       "      <td>False</td>\n",
       "      <td>False</td>\n",
       "      <td>13/10</td>\n",
       "    </tr>\n",
       "    <tr>\n",
       "      <th>2074</th>\n",
       "      <td>0.0</td>\n",
       "      <td>0.0</td>\n",
       "      <td>No text</td>\n",
       "      <td>8.924206e+17</td>\n",
       "      <td>https://pbs.twimg.com/media/DGKD1-bXoAAIAUK.jpg</td>\n",
       "      <td>1.0</td>\n",
       "      <td>Orange</td>\n",
       "      <td>0.097049</td>\n",
       "      <td>False</td>\n",
       "      <td>Bagel</td>\n",
       "      <td>...</td>\n",
       "      <td>False</td>\n",
       "      <td>Banana</td>\n",
       "      <td>0.076110</td>\n",
       "      <td>False</td>\n",
       "      <td>Phineas</td>\n",
       "      <td>False</td>\n",
       "      <td>False</td>\n",
       "      <td>False</td>\n",
       "      <td>False</td>\n",
       "      <td>13/10</td>\n",
       "    </tr>\n",
       "  </tbody>\n",
       "</table>\n",
       "<p>5 rows × 21 columns</p>\n",
       "</div>"
      ],
      "text/plain": [
       "      Retweets  Favorites     Text            Id  \\\n",
       "2070       0.0        0.0  No text  8.898809e+17   \n",
       "2071       0.0        0.0  No text  8.902403e+17   \n",
       "2072       0.0        0.0  No text  8.909719e+17   \n",
       "2073       0.0        0.0  No text  8.921774e+17   \n",
       "2074       0.0        0.0  No text  8.924206e+17   \n",
       "\n",
       "                                              Jpg url  Image num  \\\n",
       "2070  https://pbs.twimg.com/media/DFl99B1WsAITKsg.jpg        1.0   \n",
       "2071  https://pbs.twimg.com/media/DFrEyVuW0AAO3t9.jpg        1.0   \n",
       "2072  https://pbs.twimg.com/media/DF1eOmZXUAALUcq.jpg        1.0   \n",
       "2073  https://pbs.twimg.com/media/DGGmoV4XsAAUL6n.jpg        1.0   \n",
       "2074  https://pbs.twimg.com/media/DGKD1-bXoAAIAUK.jpg        1.0   \n",
       "\n",
       "        Prediction 1  Reliability 1 Breed 1        Prediction 2  ...    \\\n",
       "2070  French_Bulldog       0.377417    True  Labrador_Retriever  ...     \n",
       "2071        Pembroke       0.511319    True            Cardigan  ...     \n",
       "2072     Appenzeller       0.341703    True       Border_Collie  ...     \n",
       "2073       Chihuahua       0.323581    True            Pekinese  ...     \n",
       "2074          Orange       0.097049   False               Bagel  ...     \n",
       "\n",
       "      Breed 2 Prediction 3 Reliability 3  Breed 3     Name  Doggo Floofer  \\\n",
       "2070     True       Muzzle      0.082981    False    Bruno  False   False   \n",
       "2071     True    Chihuahua      0.029248     True   Cassie   True   False   \n",
       "2072     True    Ice_Lolly      0.193548    False      Jax  False   False   \n",
       "2073     True     Papillon      0.068957     True    Tilly  False   False   \n",
       "2074    False       Banana      0.076110    False  Phineas  False   False   \n",
       "\n",
       "     Pupper  Puppo Rating  \n",
       "2070  False  False  13/10  \n",
       "2071  False  False  14/10  \n",
       "2072  False  False  13/10  \n",
       "2073  False  False  13/10  \n",
       "2074  False  False  13/10  \n",
       "\n",
       "[5 rows x 21 columns]"
      ]
     },
     "execution_count": 44,
     "metadata": {},
     "output_type": "execute_result"
    }
   ],
   "source": [
    "final_df.tail()"
   ]
  },
  {
   "cell_type": "code",
   "execution_count": 43,
   "metadata": {},
   "outputs": [
    {
     "name": "stdout",
     "output_type": "stream",
     "text": [
      "      Retweets  Favorites                                               Text  \\\n",
      "0         47.0      128.0  This is a western brown Mitsubishi terrier. Up...   \n",
      "1        140.0      297.0  This is a purebred Piers Morgan. Loves to Netf...   \n",
      "2        843.0     1210.0  This is an odd dog. Hard on the outside but lo...   \n",
      "3        141.0      294.0  My oh my. This is a rare blond Canadian terrie...   \n",
      "4         57.0      111.0  Here is the Rand Paul of retrievers folks! He'...   \n",
      "5         60.0      145.0  Here we have a northern speckled Rhododendron....   \n",
      "6        163.0      319.0  Let's hope this flight isn't Malaysian (lol). ...   \n",
      "7         67.0      153.0  Can stand on stump for what seems like a while...   \n",
      "8         12.0       80.0  Oh my. Here you are seeing an Adobe Setter giv...   \n",
      "9       6522.0    14217.0  Not familiar with this breed. No tail (weird)....   \n",
      "10        35.0      102.0  Very concerned about fellow dog trapped in com...   \n",
      "11        76.0      174.0     Can take selfies 11/10 https://t.co/ws2AMaNwPW   \n",
      "12        64.0      146.0  This is an Albanian 3 1/2 legged  Episcopalian...   \n",
      "13       352.0      498.0  This is a funny dog. Weird toes. Won't come do...   \n",
      "14        90.0      197.0  This is an extremely rare horned Parthenon. No...   \n",
      "15       135.0      292.0  Look at this jokester thinking seat belt laws ...   \n",
      "16        72.0      219.0  Here we have a mixed Asiago from the GalÃ¡pago...   \n",
      "17        84.0      167.0  Oh goodness. A super rare northeast Qdoba kang...   \n",
      "18        40.0      108.0  This is a southern Vesuvius bumblegruff. Can d...   \n",
      "19        46.0      123.0  This is Walter. He is an Alaskan Terrapin. Lov...   \n",
      "20       111.0      315.0  *internally screaming* 12/10 https://t.co/YMcr...   \n",
      "21        83.0      165.0  Here we have an Austrian Pulitzer. Collectors ...   \n",
      "22        53.0      164.0  \"Can you behave? You're ruining my wedding day...   \n",
      "23        83.0      233.0  This is Jimothy. He is a Botwanian Gouda. Can ...   \n",
      "24        47.0      190.0  This is Christoper. He is a spotted Penne. Can...   \n",
      "25       219.0      433.0  This is a golden Buckminsterfullerene named Jo...   \n",
      "26       175.0      355.0  This is Josep. He is a Rye Manganese mix. Can ...   \n",
      "27       199.0      392.0  This is a purebred Bacardi named Octaviath. Ca...   \n",
      "28       489.0      766.0  Unfamiliar with this breed. Ears pointy af. Wo...   \n",
      "29        94.0      244.0  This is Jockson. He is a Pinnacle Sagittarius....   \n",
      "...        ...        ...                                                ...   \n",
      "2045       0.0        0.0                                            No text   \n",
      "2046       0.0        0.0                                            No text   \n",
      "2047       0.0        0.0                                            No text   \n",
      "2048       0.0        0.0                                            No text   \n",
      "2049       0.0        0.0                                            No text   \n",
      "2050       0.0        0.0                                            No text   \n",
      "2051       0.0        0.0                                            No text   \n",
      "2052       0.0        0.0                                            No text   \n",
      "2053       0.0        0.0                                            No text   \n",
      "2054       0.0        0.0                                            No text   \n",
      "2055       0.0        0.0                                            No text   \n",
      "2056       0.0        0.0                                            No text   \n",
      "2057       0.0        0.0                                            No text   \n",
      "2058       0.0        0.0                                            No text   \n",
      "2059       0.0        0.0                                            No text   \n",
      "2060       0.0        0.0                                            No text   \n",
      "2061       0.0        0.0                                            No text   \n",
      "2062       0.0        0.0                                            No text   \n",
      "2063       0.0        0.0                                            No text   \n",
      "2064       0.0        0.0                                            No text   \n",
      "2065       0.0        0.0                                            No text   \n",
      "2066       0.0        0.0                                            No text   \n",
      "2067       0.0        0.0                                            No text   \n",
      "2068       0.0        0.0                                            No text   \n",
      "2069       0.0        0.0                                            No text   \n",
      "2070       0.0        0.0                                            No text   \n",
      "2071       0.0        0.0                                            No text   \n",
      "2072       0.0        0.0                                            No text   \n",
      "2073       0.0        0.0                                            No text   \n",
      "2074       0.0        0.0                                            No text   \n",
      "\n",
      "                Id                                            Jpg url  \\\n",
      "0     6.660293e+17    https://pbs.twimg.com/media/CT42GRgUYAA5iDo.jpg   \n",
      "1     6.660442e+17    https://pbs.twimg.com/media/CT5Dr8HUEAA-lEu.jpg   \n",
      "2     6.660519e+17    https://pbs.twimg.com/media/CT5KoJ1WoAAJash.jpg   \n",
      "3     6.660571e+17    https://pbs.twimg.com/media/CT5PY90WoAAQGLo.jpg   \n",
      "4     6.660586e+17    https://pbs.twimg.com/media/CT5Qw94XAAA_2dP.jpg   \n",
      "5     6.660712e+17    https://pbs.twimg.com/media/CT5cN_3WEAAlOoZ.jpg   \n",
      "6     6.660731e+17    https://pbs.twimg.com/media/CT5d9DZXAAALcwe.jpg   \n",
      "7     6.660995e+17    https://pbs.twimg.com/media/CT51-JJUEAA6hV8.jpg   \n",
      "8     6.661022e+17    https://pbs.twimg.com/media/CT54YGiWUAEZnoK.jpg   \n",
      "9     6.661041e+17    https://pbs.twimg.com/media/CT56LSZWoAAlJj2.jpg   \n",
      "10    6.662689e+17    https://pbs.twimg.com/media/CT8QCd1WEAADXws.jpg   \n",
      "11    6.662731e+17    https://pbs.twimg.com/media/CT8T1mtUwAA3aqm.jpg   \n",
      "12    6.662874e+17    https://pbs.twimg.com/media/CT8g3BpUEAAuFjg.jpg   \n",
      "13    6.662939e+17    https://pbs.twimg.com/media/CT8mx7KW4AEQu8N.jpg   \n",
      "14    6.663379e+17    https://pbs.twimg.com/media/CT9OwFIWEAMuRje.jpg   \n",
      "15    6.663454e+17    https://pbs.twimg.com/media/CT9Vn7PWoAA_ZCM.jpg   \n",
      "16    6.663533e+17    https://pbs.twimg.com/media/CT9cx0tUEAAhNN_.jpg   \n",
      "17    6.663962e+17    https://pbs.twimg.com/media/CT-D2ZHWIAA3gK1.jpg   \n",
      "18    6.664071e+17    https://pbs.twimg.com/media/CT-NvwmW4AAugGZ.jpg   \n",
      "19    6.664188e+17    https://pbs.twimg.com/media/CT-YWb7U8AA7QnN.jpg   \n",
      "20    6.664212e+17    https://pbs.twimg.com/media/CT-aggCXAAIMfT3.jpg   \n",
      "21    6.664283e+17    https://pbs.twimg.com/media/CT-g-0DUwAEQdSn.jpg   \n",
      "22    6.664357e+17    https://pbs.twimg.com/media/CT-nsTQWEAEkyDn.jpg   \n",
      "23    6.666448e+17    https://pbs.twimg.com/media/CUBl6IwVAAA9_zT.jpg   \n",
      "24    6.666914e+17    https://pbs.twimg.com/media/CUCQTpEWEAA7EDz.jpg   \n",
      "25    6.667012e+17    https://pbs.twimg.com/media/CUCZLHlUAAAeAig.jpg   \n",
      "26    6.667769e+17    https://pbs.twimg.com/media/CUDeDoWUYAAD-EM.jpg   \n",
      "27    6.667818e+17    https://pbs.twimg.com/media/CUDigRXXIAATI_H.jpg   \n",
      "28    6.667861e+17    https://pbs.twimg.com/media/CUDmZIkWcAAIPPe.jpg   \n",
      "29    6.668044e+17    https://pbs.twimg.com/media/CUD3A7YWoAA82N0.jpg   \n",
      "...            ...                                                ...   \n",
      "2045  8.718798e+17    https://pbs.twimg.com/media/DBmKAmBXUAE-pQ-.jpg   \n",
      "2046  8.721227e+17    https://pbs.twimg.com/media/DBpm-5UXcAUeCru.jpg   \n",
      "2047  8.722617e+17    https://pbs.twimg.com/media/DBrlZk2UQAAfAkd.jpg   \n",
      "2048  8.735803e+17    https://pbs.twimg.com/media/DB-UotKXkAEHXVi.jpg   \n",
      "2049  8.736976e+17    https://pbs.twimg.com/media/DA7iHL5U0AA1OQo.jpg   \n",
      "2050  8.773168e+17    https://pbs.twimg.com/media/DCza_vtXkAQXGpC.jpg   \n",
      "2051  8.787761e+17    https://pbs.twimg.com/media/DDIKMXzW0AEibje.jpg   \n",
      "2052  8.790082e+17    https://pbs.twimg.com/media/DDLdUrqXYAMOVzY.jpg   \n",
      "2053  8.794158e+17  https://pbs.twimg.com/ext_tw_video_thumb/87941...   \n",
      "2054  8.800958e+17    https://pbs.twimg.com/media/DDa6ckbXgAAM1vV.jpg   \n",
      "2055  8.809358e+17    https://pbs.twimg.com/media/DDm2Z5aXUAEDS2u.jpg   \n",
      "2056  8.815360e+17  https://pbs.twimg.com/ext_tw_video_thumb/88153...   \n",
      "2057  8.819066e+17    https://pbs.twimg.com/media/DD0pWm9XcAAeSBL.jpg   \n",
      "2058  8.820459e+17    https://pbs.twimg.com/media/DD2oCl2WAAEI_4a.jpg   \n",
      "2059  8.833607e+17    https://pbs.twimg.com/media/DEJT3FeXoAAtwUy.jpg   \n",
      "2060  8.838381e+17    https://pbs.twimg.com/media/DEQGFgAXUAAEvfi.jpg   \n",
      "2061  8.841627e+17    https://pbs.twimg.com/media/DEUtQbzW0AUTv_o.jpg   \n",
      "2062  8.848768e+17    https://pbs.twimg.com/media/DEe2tZXXkAAwyX3.jpg   \n",
      "2063  8.849255e+17    https://pbs.twimg.com/media/DEfjEaNXkAAtPlj.jpg   \n",
      "2064  8.862584e+17    https://pbs.twimg.com/media/DEyfTG4UMAE4aE9.jpg   \n",
      "2065  8.874740e+17    https://pbs.twimg.com/media/DFDw2tyUQAAAFke.jpg   \n",
      "2066  8.882025e+17    https://pbs.twimg.com/media/DFDw2tyUQAAAFke.jpg   \n",
      "2067  8.888050e+17    https://pbs.twimg.com/media/DFWra-3VYAA2piG.jpg   \n",
      "2068  8.895311e+17    https://pbs.twimg.com/media/DFg_2PVW0AEHN3p.jpg   \n",
      "2069  8.896654e+17    https://pbs.twimg.com/media/DFi579UWsAAatzw.jpg   \n",
      "2070  8.898809e+17    https://pbs.twimg.com/media/DFl99B1WsAITKsg.jpg   \n",
      "2071  8.902403e+17    https://pbs.twimg.com/media/DFrEyVuW0AAO3t9.jpg   \n",
      "2072  8.909719e+17    https://pbs.twimg.com/media/DF1eOmZXUAALUcq.jpg   \n",
      "2073  8.921774e+17    https://pbs.twimg.com/media/DGGmoV4XsAAUL6n.jpg   \n",
      "2074  8.924206e+17    https://pbs.twimg.com/media/DGKD1-bXoAAIAUK.jpg   \n",
      "\n",
      "      Image num              Prediction 1  Reliability 1 Breed 1  \\\n",
      "0           1.0                   Redbone       0.506826    True   \n",
      "1           1.0       Rhodesian_Ridgeback       0.408143    True   \n",
      "2           1.0                Box_Turtle       0.933012   False   \n",
      "3           1.0             Shopping_Cart       0.962465   False   \n",
      "4           1.0          Miniature_Poodle       0.201493    True   \n",
      "5           1.0             Gordon_Setter       0.503672    True   \n",
      "6           1.0              Walker_Hound       0.260857    True   \n",
      "7           1.0                     Lhasa       0.582330    True   \n",
      "8           1.0            English_Setter       0.298617    True   \n",
      "9           1.0                       Hen       0.965932   False   \n",
      "10          1.0          Desktop_Computer       0.086502   False   \n",
      "11          1.0         Italian_Greyhound       0.176053    True   \n",
      "12          1.0               Maltese_Dog       0.857531    True   \n",
      "13          1.0          Three-Toed_Sloth       0.914671   False   \n",
      "14          1.0                        Ox       0.416669   False   \n",
      "15          1.0          Golden_Retriever       0.858744    True   \n",
      "16          1.0                  Malamute       0.336874    True   \n",
      "17          1.0                 Chihuahua       0.978108    True   \n",
      "18          1.0   Black-And-Tan_Coonhound       0.529139    True   \n",
      "19          1.0               Toy_Terrier       0.149680    True   \n",
      "20          1.0          Blenheim_Spaniel       0.906777    True   \n",
      "21          1.0                  Pembroke       0.371361    True   \n",
      "22          1.0  Chesapeake_Bay_Retriever       0.184130    True   \n",
      "23          1.0              Ibizan_Hound       0.044333    True   \n",
      "24          1.0           German_Shepherd       0.975401    True   \n",
      "25          1.0        Labrador_Retriever       0.887707    True   \n",
      "26          1.0                 Seat_Belt       0.375057   False   \n",
      "27          1.0         Italian_Greyhound       0.618316    True   \n",
      "28          1.0                     Snail       0.999888   False   \n",
      "29          1.0            English_Setter       0.328792    True   \n",
      "...         ...                       ...            ...     ...   \n",
      "2045        1.0         Shetland_Sheepdog       0.969171    True   \n",
      "2046        1.0                Basketball       0.808396   False   \n",
      "2047        2.0        Labrador_Retriever       0.972019    True   \n",
      "2048        1.0              Newfoundland       0.678537    True   \n",
      "2049        1.0                    Laptop       0.153718   False   \n",
      "2050        1.0                    Saluki       0.509967    True   \n",
      "2051        2.0         Italian_Greyhound       0.734684    True   \n",
      "2052        1.0                    Vizsla       0.960513    True   \n",
      "2053        1.0          English_Springer       0.383404    True   \n",
      "2054        1.0        Miniature_Pinscher       0.120298    True   \n",
      "2055        1.0               Street_Sign       0.251801   False   \n",
      "2056        1.0                   Samoyed       0.281463    True   \n",
      "2057        1.0                Weimaraner       0.291539    True   \n",
      "2058        1.0                  Web_Site       0.949591   False   \n",
      "2059        1.0                      Chow       0.987997    True   \n",
      "2060        1.0                  Doberman       0.610946    True   \n",
      "2061        1.0           German_Shepherd       0.707046    True   \n",
      "2062        1.0                      Chow       0.822103    True   \n",
      "2063        1.0         Italian_Greyhound       0.259916    True   \n",
      "2064        1.0                       Pug       0.943575    True   \n",
      "2065        2.0                  Pembroke       0.809197    True   \n",
      "2066        2.0                  Pembroke       0.809197    True   \n",
      "2067        1.0          Golden_Retriever       0.469760    True   \n",
      "2068        1.0          Golden_Retriever       0.953442    True   \n",
      "2069        1.0                  Pembroke       0.966327    True   \n",
      "2070        1.0            French_Bulldog       0.377417    True   \n",
      "2071        1.0                  Pembroke       0.511319    True   \n",
      "2072        1.0               Appenzeller       0.341703    True   \n",
      "2073        1.0                 Chihuahua       0.323581    True   \n",
      "2074        1.0                    Orange       0.097049   False   \n",
      "\n",
      "                        Prediction 2  ...    Breed 2  \\\n",
      "0                 Miniature_Pinscher  ...       True   \n",
      "1                            Redbone  ...       True   \n",
      "2                         Mud_Turtle  ...      False   \n",
      "3                    Shopping_Basket  ...      False   \n",
      "4                           Komondor  ...       True   \n",
      "5                  Yorkshire_Terrier  ...       True   \n",
      "6                   English_Foxhound  ...       True   \n",
      "7                           Shih-Tzu  ...       True   \n",
      "8                       Newfoundland  ...       True   \n",
      "9                               Cock  ...      False   \n",
      "10                              Desk  ...      False   \n",
      "11                       Toy_Terrier  ...       True   \n",
      "12                        Toy_Poodle  ...       True   \n",
      "13                             Otter  ...      False   \n",
      "14                      Newfoundland  ...       True   \n",
      "15          Chesapeake_Bay_Retriever  ...       True   \n",
      "16                    Siberian_Husky  ...       True   \n",
      "17                       Toy_Terrier  ...       True   \n",
      "18                        Bloodhound  ...       True   \n",
      "19                          Papillon  ...       True   \n",
      "20                    Cocker_Spaniel  ...       True   \n",
      "21                              Chow  ...       True   \n",
      "22                         Chain_Saw  ...      False   \n",
      "23                          Pembroke  ...       True   \n",
      "24                            Beagle  ...       True   \n",
      "25                         Chihuahua  ...       True   \n",
      "26                Miniature_Pinscher  ...       True   \n",
      "27                        Weimaraner  ...       True   \n",
      "28                              Slug  ...      False   \n",
      "29                  Brittany_Spaniel  ...       True   \n",
      "...                              ...  ...        ...   \n",
      "2045                          Collie  ...       True   \n",
      "2046                             Pug  ...       True   \n",
      "2047           Flat-Coated_Retriever  ...       True   \n",
      "2048                 Tibetan_Mastiff  ...       True   \n",
      "2049                  French_Bulldog  ...       True   \n",
      "2050               Italian_Greyhound  ...       True   \n",
      "2051                         Whippet  ...       True   \n",
      "2052              Miniature_Pinscher  ...       True   \n",
      "2053                     Boston_Bull  ...       True   \n",
      "2054             Rhodesian_Ridgeback  ...       True   \n",
      "2055                        Umbrella  ...      False   \n",
      "2056                          Angora  ...      False   \n",
      "2057        Chesapeake_Bay_Retriever  ...       True   \n",
      "2058                           Dhole  ...      False   \n",
      "2059                 Tibetan_Mastiff  ...       True   \n",
      "2060              Miniature_Pinscher  ...       True   \n",
      "2061                        Malinois  ...       True   \n",
      "2062                 Norwich_Terrier  ...       True   \n",
      "2063  American_Staffordshire_Terrier  ...       True   \n",
      "2064                      Shower_Cap  ...      False   \n",
      "2065             Rhodesian_Ridgeback  ...       True   \n",
      "2066             Rhodesian_Ridgeback  ...       True   \n",
      "2067              Labrador_Retriever  ...       True   \n",
      "2068              Labrador_Retriever  ...       True   \n",
      "2069                        Cardigan  ...       True   \n",
      "2070              Labrador_Retriever  ...       True   \n",
      "2071                        Cardigan  ...       True   \n",
      "2072                   Border_Collie  ...       True   \n",
      "2073                        Pekinese  ...       True   \n",
      "2074                           Bagel  ...      False   \n",
      "\n",
      "                        Prediction 3 Reliability 3  Breed 3        Name  \\\n",
      "0                Rhodesian_Ridgeback      0.072010     True         Dog   \n",
      "1                 Miniature_Pinscher      0.222752     True         Dog   \n",
      "2                           Terrapin      0.017885    False         Dog   \n",
      "3                   Golden_Retriever      0.007959     True         Dog   \n",
      "4        Soft-Coated_Wheaten_Terrier      0.082086     True         Dog   \n",
      "5                           Pekinese      0.109454     True         Dog   \n",
      "6                       Ibizan_Hound      0.097471     True         Dog   \n",
      "7                     Dandie_Dinmont      0.089688     True         Dog   \n",
      "8                             Borzoi      0.133649     True         Dog   \n",
      "9                          Partridge      0.000052    False         Dog   \n",
      "10                          Bookcase      0.079480    False         Dog   \n",
      "11                           Basenji      0.111152     True         Dog   \n",
      "12                  Miniature_Poodle      0.025581     True         Dog   \n",
      "13                    Great_Grey_Owl      0.013207    False         Dog   \n",
      "14                       Groenendael      0.102643     True         Dog   \n",
      "15                Labrador_Retriever      0.014241     True         Dog   \n",
      "16                        Eskimo_Dog      0.093412     True         Dog   \n",
      "17                          Papillon      0.004577     True         Dog   \n",
      "18             Flat-Coated_Retriever      0.173810     True         Dog   \n",
      "19                         Chihuahua      0.142860     True      Walter   \n",
      "20                          Shih-Tzu      0.001117     True         Dog   \n",
      "21                        Pomeranian      0.241878     True         Dog   \n",
      "22                       Power_Drill      0.036763    False         Dog   \n",
      "23       West_Highland_White_Terrier      0.038906     True     Jimothy   \n",
      "24                        Bloodhound      0.005394     True  Christoper   \n",
      "25                    French_Bulldog      0.020756     True         Dog   \n",
      "26                         Chihuahua      0.086951     True       Josep   \n",
      "27                            Vizsla      0.085989     True         Dog   \n",
      "28                             Acorn      0.000026    False         Dog   \n",
      "29                      Ibizan_Hound      0.057461     True     Jockson   \n",
      "...                              ...           ...      ...         ...   \n",
      "2045                      Pomeranian      0.008515     True      Lassie   \n",
      "2046                       Dalmatian      0.054570     True        Kody   \n",
      "2047        Chesapeake_Bay_Retriever      0.007359     True       Harry   \n",
      "2048                            Chow      0.048530     True         Dog   \n",
      "2049                         Printer      0.077130    False      Walter   \n",
      "2050                Golden_Retriever      0.079406     True       Dante   \n",
      "2051                    Ibizan_Hound      0.039725     True      Snoopy   \n",
      "2052  American_Staffordshire_Terrier      0.008711     True        Beau   \n",
      "2053                        Cardigan      0.110481     True     Duddles   \n",
      "2054                          Beagle      0.106073     True         Dog   \n",
      "2055                   Traffic_Light      0.069534    False       Louis   \n",
      "2056                     Persian_Cat      0.114854    False         Dog   \n",
      "2057                           Koala      0.127017    False         Rey   \n",
      "2058                Golden_Retriever      0.006941     True        Koko   \n",
      "2059                    Newfoundland      0.002140     True   Grizzwald   \n",
      "2060                          Kelpie      0.063020     True        Noah   \n",
      "2061              Norwegian_Elkhound      0.049148     True        Yogi   \n",
      "2062                 Norfolk_Terrier      0.037348     True        Lola   \n",
      "2063       Staffordshire_Bullterrier      0.127725     True        Earl   \n",
      "2064                     Siamese_Cat      0.002849    False     Waffles   \n",
      "2065                          Beagle      0.038915     True      Canela   \n",
      "2066                          Beagle      0.038915     True      Canela   \n",
      "2067                  English_Setter      0.073482     True        Zeke   \n",
      "2068                         Redbone      0.007958     True      Stuart   \n",
      "2069                         Basenji      0.004633     True         Dog   \n",
      "2070                          Muzzle      0.082981    False       Bruno   \n",
      "2071                       Chihuahua      0.029248     True      Cassie   \n",
      "2072                       Ice_Lolly      0.193548    False         Jax   \n",
      "2073                        Papillon      0.068957     True       Tilly   \n",
      "2074                          Banana      0.076110    False     Phineas   \n",
      "\n",
      "      Doggo Floofer Pupper  Puppo Rating  \n",
      "0     False   False  False  False   7/10  \n",
      "1     False   False  False  False   6/10  \n",
      "2     False   False  False  False   2/10  \n",
      "3     False   False  False  False   9/10  \n",
      "4     False   False  False  False   8/10  \n",
      "5     False   False  False  False   9/10  \n",
      "6     False   False  False  False  10/10  \n",
      "7     False   False  False  False   8/10  \n",
      "8     False   False  False  False  11/10  \n",
      "9     False   False  False  False   1/10  \n",
      "10    False   False  False  False  10/10  \n",
      "11    False   False  False  False  11/10  \n",
      "12    False   False  False  False    1/2  \n",
      "13    False   False  False  False   3/10  \n",
      "14    False   False  False  False   9/10  \n",
      "15    False   False  False  False  10/10  \n",
      "16    False   False  False  False   8/10  \n",
      "17    False   False  False  False   9/10  \n",
      "18    False   False  False  False   7/10  \n",
      "19    False   False  False  False  10/10  \n",
      "20    False   False  False  False  12/10  \n",
      "21    False   False  False  False   7/10  \n",
      "22    False   False  False  False  10/10  \n",
      "23    False   False  False  False   9/10  \n",
      "24    False   False  False  False   8/10  \n",
      "25    False   False  False  False   8/10  \n",
      "26    False   False  False  False   5/10  \n",
      "27    False   False  False  False  10/10  \n",
      "28    False   False  False  False   2/10  \n",
      "29    False   False  False  False   8/10  \n",
      "...     ...     ...    ...    ...    ...  \n",
      "2045  False   False  False  False  13/10  \n",
      "2046  False   False  False  False  12/10  \n",
      "2047  False   False  False  False  13/10  \n",
      "2048  False   False  False  False  13/10  \n",
      "2049  False   False  False  False  14/10  \n",
      "2050  False   False  False  False  13/10  \n",
      "2051  False   False  False   True  13/10  \n",
      "2052  False   False  False  False  13/10  \n",
      "2053  False   False  False  False  13/10  \n",
      "2054  False   False  False  False  11/10  \n",
      "2055  False   False  False  False  13/10  \n",
      "2056  False   False   True  False  14/10  \n",
      "2057  False   False  False  False  12/10  \n",
      "2058  False   False  False  False  13/10  \n",
      "2059  False    True  False  False  13/10  \n",
      "2060  False   False  False  False  12/10  \n",
      "2061   True   False  False  False  12/10  \n",
      "2062  False   False  False  False  13/10  \n",
      "2063  False   False  False  False  12/10  \n",
      "2064  False   False  False  False  13/10  \n",
      "2065  False   False  False  False  13/10  \n",
      "2066  False   False  False  False  13/10  \n",
      "2067  False   False  False  False  13/10  \n",
      "2068  False   False  False   True  13/10  \n",
      "2069  False   False  False   True  13/10  \n",
      "2070  False   False  False  False  13/10  \n",
      "2071   True   False  False  False  14/10  \n",
      "2072  False   False  False  False  13/10  \n",
      "2073  False   False  False  False  13/10  \n",
      "2074  False   False  False  False  13/10  \n",
      "\n",
      "[2075 rows x 21 columns]\n"
     ]
    }
   ],
   "source": [
    "print(final_df)"
   ]
  },
  {
   "cell_type": "markdown",
   "metadata": {},
   "source": [
    "# Save"
   ]
  },
  {
   "cell_type": "markdown",
   "metadata": {},
   "source": [
    "Salvar arquivo em csv -- Backup do arquivo limpo"
   ]
  },
  {
   "cell_type": "code",
   "execution_count": 20,
   "metadata": {},
   "outputs": [],
   "source": [
    "final_df.to_csv(\"final_df.csv\", sep=',', encoding='utf-8')"
   ]
  },
  {
   "cell_type": "markdown",
   "metadata": {},
   "source": [
    "# Assess"
   ]
  },
  {
   "cell_type": "code",
   "execution_count": 49,
   "metadata": {},
   "outputs": [
    {
     "data": {
      "text/plain": [
       "Golden_Retriever             150\n",
       "Labrador_Retriever           100\n",
       "Pembroke                      89\n",
       "Chihuahua                     83\n",
       "Pug                           57\n",
       "Chow                          44\n",
       "Samoyed                       43\n",
       "Toy_Poodle                    39\n",
       "Pomeranian                    38\n",
       "Malamute                      30\n",
       "Cocker_Spaniel                30\n",
       "French_Bulldog                26\n",
       "Miniature_Pinscher            23\n",
       "Chesapeake_Bay_Retriever      23\n",
       "Seat_Belt                     22\n",
       "German_Shepherd               20\n",
       "Staffordshire_Bullterrier     20\n",
       "Siberian_Husky                20\n",
       "Cardigan                      19\n",
       "Web_Site                      19\n",
       "Shetland_Sheepdog             18\n",
       "Maltese_Dog                   18\n",
       "Eskimo_Dog                    18\n",
       "Teddy                         18\n",
       "Beagle                        18\n",
       "Shih-Tzu                      17\n",
       "Lakeland_Terrier              17\n",
       "Rottweiler                    17\n",
       "Italian_Greyhound             16\n",
       "Kuvasz                        16\n",
       "                            ... \n",
       "Soccer_Ball                    1\n",
       "Mud_Turtle                     1\n",
       "Remote_Control                 1\n",
       "Hotdog                         1\n",
       "Coral_Reef                     1\n",
       "American_Black_Bear            1\n",
       "Binoculars                     1\n",
       "Crane                          1\n",
       "Restaurant                     1\n",
       "Ice_Lolly                      1\n",
       "Clog                           1\n",
       "Platypus                       1\n",
       "Sandbar                        1\n",
       "Grey_Fox                       1\n",
       "Handkerchief                   1\n",
       "Lacewing                       1\n",
       "Park_Bench                     1\n",
       "Long-Horned_Beetle             1\n",
       "Revolver                       1\n",
       "Cliff                          1\n",
       "King_Penguin                   1\n",
       "Cougar                         1\n",
       "Tiger_Shark                    1\n",
       "Desktop_Computer               1\n",
       "Loupe                          1\n",
       "Sundial                        1\n",
       "Marmot                         1\n",
       "Bison                          1\n",
       "Beach_Wagon                    1\n",
       "Dhole                          1\n",
       "Name: Prediction 1, Length: 378, dtype: int64"
      ]
     },
     "execution_count": 49,
     "metadata": {},
     "output_type": "execute_result"
    }
   ],
   "source": [
    "final_df['Prediction 1'].value_counts()"
   ]
  },
  {
   "cell_type": "code",
   "execution_count": 60,
   "metadata": {},
   "outputs": [
    {
     "data": {
      "text/plain": [
       "730"
      ]
     },
     "execution_count": 60,
     "metadata": {},
     "output_type": "execute_result"
    }
   ],
   "source": [
    "final_df.Text.str.count('No text').sum()"
   ]
  },
  {
   "cell_type": "code",
   "execution_count": 63,
   "metadata": {},
   "outputs": [
    {
     "data": {
      "text/plain": [
       "24"
      ]
     },
     "execution_count": 63,
     "metadata": {},
     "output_type": "execute_result"
    }
   ],
   "source": [
    "final_df.Puppo.str.count('True').sum()"
   ]
  },
  {
   "cell_type": "code",
   "execution_count": 64,
   "metadata": {},
   "outputs": [
    {
     "data": {
      "text/plain": [
       "80"
      ]
     },
     "execution_count": 64,
     "metadata": {},
     "output_type": "execute_result"
    }
   ],
   "source": [
    "final_df.Doggo.str.count('True').sum()"
   ]
  },
  {
   "cell_type": "code",
   "execution_count": 65,
   "metadata": {},
   "outputs": [
    {
     "data": {
      "text/plain": [
       "8"
      ]
     },
     "execution_count": 65,
     "metadata": {},
     "output_type": "execute_result"
    }
   ],
   "source": [
    "final_df.Floofer.str.count('True').sum()"
   ]
  },
  {
   "cell_type": "code",
   "execution_count": 66,
   "metadata": {},
   "outputs": [
    {
     "data": {
      "text/plain": [
       "222"
      ]
     },
     "execution_count": 66,
     "metadata": {},
     "output_type": "execute_result"
    }
   ],
   "source": [
    "final_df.Pupper.str.count('True').sum()"
   ]
  },
  {
   "cell_type": "code",
   "execution_count": 72,
   "metadata": {
    "scrolled": true
   },
   "outputs": [
    {
     "data": {
      "text/plain": [
       "Retweets                                                     60096\n",
       "Favorites                                                   121495\n",
       "Text             This is Stephan. He just wants to help. 13/10 ...\n",
       "Id                                                     8.07107e+17\n",
       "Jpg url          https://pbs.twimg.com/ext_tw_video_thumb/80710...\n",
       "Image num                                                        1\n",
       "Prediction 1                                             Chihuahua\n",
       "Reliability 1                                              0.50537\n",
       "Breed 1                                                       True\n",
       "Prediction 2                                            Pomeranian\n",
       "Reliability 2                                             0.120358\n",
       "Breed 2                                                       True\n",
       "Prediction 3                                           Toy_Terrier\n",
       "Reliability 3                                            0.0770081\n",
       "Breed 3                                                       True\n",
       "Name                                                       Stephan\n",
       "Doggo                                                        False\n",
       "Floofer                                                      False\n",
       "Pupper                                                       False\n",
       "Puppo                                                        False\n",
       "Rating                                                       13/10\n",
       "Name: 1095, dtype: object"
      ]
     },
     "execution_count": 72,
     "metadata": {},
     "output_type": "execute_result"
    }
   ],
   "source": [
    "final_df.loc[final_df['Favorites'].idxmax()]"
   ]
  },
  {
   "cell_type": "code",
   "execution_count": 94,
   "metadata": {},
   "outputs": [
    {
     "data": {
      "text/plain": [
       "Retweets                                                        83\n",
       "Favorites                                                      233\n",
       "Text             This is Jimothy. He is a Botwanian Gouda. Can ...\n",
       "Id                                                     6.66645e+17\n",
       "Jpg url            https://pbs.twimg.com/media/CUBl6IwVAAA9_zT.jpg\n",
       "Image num                                                        1\n",
       "Prediction 1                                          Ibizan_Hound\n",
       "Reliability 1                                            0.0443334\n",
       "Breed 1                                                       True\n",
       "Prediction 2                                              Pembroke\n",
       "Reliability 2                                            0.0432093\n",
       "Breed 2                                                       True\n",
       "Prediction 3                           West_Highland_White_Terrier\n",
       "Reliability 3                                            0.0389056\n",
       "Breed 3                                                       True\n",
       "Name                                                       Jimothy\n",
       "Doggo                                                        False\n",
       "Floofer                                                      False\n",
       "Pupper                                                       False\n",
       "Puppo                                                        False\n",
       "Rating                                                        9/10\n",
       "Name: 23, dtype: object"
      ]
     },
     "execution_count": 94,
     "metadata": {},
     "output_type": "execute_result"
    }
   ],
   "source": [
    "final_df.loc[final_df['Reliability 1'].idxmin()]"
   ]
  },
  {
   "cell_type": "code",
   "execution_count": 21,
   "metadata": {},
   "outputs": [
    {
     "data": {
      "text/plain": [
       "Prediction 1\n",
       "Golden_Retriever            371776.0\n",
       "Labrador_Retriever          231875.0\n",
       "Pembroke                    191911.0\n",
       "Chihuahua                   169214.0\n",
       "Standard_Poodle              84514.0\n",
       "Samoyed                      79966.0\n",
       "Cardigan                     78251.0\n",
       "Pug                          75485.0\n",
       "French_Bulldog               67983.0\n",
       "Cocker_Spaniel               67312.0\n",
       "Pomeranian                   64308.0\n",
       "Chow                         63134.0\n",
       "Chesapeake_Bay_Retriever     52453.0\n",
       "Swing                        49380.0\n",
       "Seat_Belt                    48428.0\n",
       "Malamute                     48122.0\n",
       "Toy_Poodle                   43100.0\n",
       "Upright                      36340.0\n",
       "Flat-Coated_Retriever        34570.0\n",
       "Hippopotamus                 34109.0\n",
       "Bubble                       33360.0\n",
       "Gondola                      31922.0\n",
       "Angora                       31416.0\n",
       "Home_Theater                 29935.0\n",
       "Rottweiler                   29761.0\n",
       "Norwegian_Elkhound           29699.0\n",
       "Web_Site                     27225.0\n",
       "German_Shepherd              26791.0\n",
       "Tibetan_Mastiff              25353.0\n",
       "Miniature_Pinscher           25339.0\n",
       "                              ...   \n",
       "Marmot                           0.0\n",
       "Maillot                          0.0\n",
       "Madagascar_Cat                   0.0\n",
       "Lynx                             0.0\n",
       "Cowboy_Boot                      0.0\n",
       "Leopard                          0.0\n",
       "Cuirass                          0.0\n",
       "Otter                            0.0\n",
       "Lacewing                         0.0\n",
       "Cheeseburger                     0.0\n",
       "Prison                           0.0\n",
       "Boathouse                        0.0\n",
       "Book_Jacket                      0.0\n",
       "Bookcase                         0.0\n",
       "Cup                              0.0\n",
       "Robin                            0.0\n",
       "Revolver                         0.0\n",
       "Rapeseed                         0.0\n",
       "Rain_Barrel                      0.0\n",
       "Pot                              0.0\n",
       "Cash_Machine                     0.0\n",
       "Polecat                          0.0\n",
       "Piggy_Bank                       0.0\n",
       "Jersey                           0.0\n",
       "Groenendael                      0.0\n",
       "Killer_Whale                     0.0\n",
       "Park_Bench                       0.0\n",
       "Carousel                         0.0\n",
       "Dining_Table                     0.0\n",
       "Pedestal                         0.0\n",
       "Name: Retweets, Length: 378, dtype: float64"
      ]
     },
     "execution_count": 21,
     "metadata": {},
     "output_type": "execute_result"
    }
   ],
   "source": [
    "final_df.groupby('Prediction 1')['Retweets'].sum().sort_values(ascending=False)"
   ]
  },
  {
   "cell_type": "markdown",
   "metadata": {},
   "source": [
    "# Visualization"
   ]
  },
  {
   "cell_type": "markdown",
   "metadata": {},
   "source": [
    "Somar os retweets e as a previsão 1 das 10 raças mais populares"
   ]
  },
  {
   "cell_type": "code",
   "execution_count": 51,
   "metadata": {},
   "outputs": [],
   "source": [
    "popular_breeds = final_df.groupby('Prediction 1')['Retweets'].sum().sort_values(ascending=False)\n",
    "popular_breeds10 = popular_breeds[:10]"
   ]
  },
  {
   "cell_type": "code",
   "execution_count": 56,
   "metadata": {},
   "outputs": [
    {
     "data": {
      "image/png": "[encoded data removed]",
      "text/plain": [
       "<Figure size 1080x360 with 1 Axes>"
      ]
     },
     "metadata": {},
     "output_type": "display_data"
    }
   ],
   "source": [
    "number = [1, 2, 3, 4, 5, 6, 7, 8, 9, 10]\n",
    "breeds = ['Golden\\nRetriever', 'Labrador\\nRetriever', 'Pembroke', 'Chihuahua', \n",
    "          'Pug', 'Chow', 'Samoyed', 'Toy\\nPoodle', 'Pomeranian', 'Malamute / \\nCocker Spaniel']\n",
    "yticks_old = [0, 100000, 200000, 300000, 400000, 500000]\n",
    "yticks_new = ['0','100K','200K','300K','400K', '500K']\n",
    "fig, ax = plt.subplots(figsize=(15,5))\n",
    "\n",
    "plt.bar(number, popular_breeds10, color=\"#a781bd\", width = 0.8)\n",
    "plt.title('Retweets by Breeds', fontsize=20, fontweight='bold')\n",
    "plt.xlabel('Breeds', fontsize=15, labelpad=15, fontweight='bold')\n",
    "plt.ylabel('Retweets', fontsize=15, labelpad=15, fontweight='bold')\n",
    "plt.xticks(number, breeds, fontsize=13)\n",
    "plt.yticks(yticks_old, yticks_new, fontsize=13)\n",
    "ax.xaxis.grid(False)\n",
    "plt.show()\n",
    "fig.savefig('RetweetNumberByBreeds.png', dpi=fig.dpi)"
   ]
  },
  {
   "cell_type": "markdown",
   "metadata": {},
   "source": [
    "# Insigths"
   ]
  },
  {
   "cell_type": "markdown",
   "metadata": {},
   "source": [
    "- As fotos previstos pela inteligência artificial como sendo de Golden Retrievers foram mais retuitadas.\n",
    "- A inteligênica artificial previu mais Golden Retrievers do que qualquer outra raça.\n",
    "- Tweets sem texto são menos favoritados e retuitados\n",
    "- Puppers (filhotes) são, aparentemente, mais classificados"
   ]
  },
  {
   "cell_type": "markdown",
   "metadata": {},
   "source": [
    "Mais detalhes em: act_report.html e wrangle_report.html"
   ]
  },
  {
   "cell_type": "code",
   "execution_count": null,
   "metadata": {},
   "outputs": [],
   "source": []
  }
 ],
 "metadata": {
  "kernelspec": {
   "display_name": "Python 3",
   "language": "python",
   "name": "python3"
  },
  "language_info": {
   "codemirror_mode": {
    "name": "ipython",
    "version": 3
   },
   "file_extension": ".py",
   "mimetype": "text/x-python",
   "name": "python",
   "nbconvert_exporter": "python",
   "pygments_lexer": "ipython3",
   "version": "3.6.4"
  }
 },
 "nbformat": 4,
 "nbformat_minor": 2
}
